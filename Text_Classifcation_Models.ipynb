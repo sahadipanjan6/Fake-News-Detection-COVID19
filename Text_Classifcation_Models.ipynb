{
  "nbformat": 4,
  "nbformat_minor": 0,
  "metadata": {
    "colab": {
      "name": "Text Classifcation Models.ipynb",
      "provenance": []
    },
    "kernelspec": {
      "name": "python3",
      "display_name": "Python 3"
    }
  },
  "cells": [
    {
      "cell_type": "code",
      "metadata": {
        "id": "dzi_3xyCPcsW",
        "colab_type": "code",
        "colab": {
          "base_uri": "https://localhost:8080/",
          "height": 206
        },
        "outputId": "78aeafd6-4d81-499c-bc2b-3010c5d431ef"
      },
      "source": [
        "#importing required packages\n",
        "import numpy as np\n",
        "import pandas as pd\n",
        "\n",
        "#reading the dataset\n",
        "dataset = pd.read_csv('/content/drive/My Drive/corpus.csv', encoding='latin-1')\n",
        "dataset.head(5)"
      ],
      "execution_count": null,
      "outputs": [
        {
          "output_type": "execute_result",
          "data": {
            "text/html": [
              "<div>\n",
              "<style scoped>\n",
              "    .dataframe tbody tr th:only-of-type {\n",
              "        vertical-align: middle;\n",
              "    }\n",
              "\n",
              "    .dataframe tbody tr th {\n",
              "        vertical-align: top;\n",
              "    }\n",
              "\n",
              "    .dataframe thead th {\n",
              "        text-align: right;\n",
              "    }\n",
              "</style>\n",
              "<table border=\"1\" class=\"dataframe\">\n",
              "  <thead>\n",
              "    <tr style=\"text-align: right;\">\n",
              "      <th></th>\n",
              "      <th>text</th>\n",
              "      <th>label</th>\n",
              "    </tr>\n",
              "  </thead>\n",
              "  <tbody>\n",
              "    <tr>\n",
              "      <th>0</th>\n",
              "      <td>Stuning even for the non-gamer: This sound tr...</td>\n",
              "      <td>__label__2</td>\n",
              "    </tr>\n",
              "    <tr>\n",
              "      <th>1</th>\n",
              "      <td>The best soundtrack ever to anything.: I'm re...</td>\n",
              "      <td>__label__2</td>\n",
              "    </tr>\n",
              "    <tr>\n",
              "      <th>2</th>\n",
              "      <td>Amazing!: This soundtrack is my favorite musi...</td>\n",
              "      <td>__label__2</td>\n",
              "    </tr>\n",
              "    <tr>\n",
              "      <th>3</th>\n",
              "      <td>Excellent Soundtrack: I truly like this sound...</td>\n",
              "      <td>__label__2</td>\n",
              "    </tr>\n",
              "    <tr>\n",
              "      <th>4</th>\n",
              "      <td>Remember, Pull Your Jaw Off The Floor After H...</td>\n",
              "      <td>__label__2</td>\n",
              "    </tr>\n",
              "  </tbody>\n",
              "</table>\n",
              "</div>"
            ],
            "text/plain": [
              "                                                text        label\n",
              "0   Stuning even for the non-gamer: This sound tr...  __label__2 \n",
              "1   The best soundtrack ever to anything.: I'm re...  __label__2 \n",
              "2   Amazing!: This soundtrack is my favorite musi...  __label__2 \n",
              "3   Excellent Soundtrack: I truly like this sound...  __label__2 \n",
              "4   Remember, Pull Your Jaw Off The Floor After H...  __label__2 "
            ]
          },
          "metadata": {
            "tags": []
          },
          "execution_count": 1
        }
      ]
    },
    {
      "cell_type": "code",
      "metadata": {
        "id": "jzNSVcVySuFo",
        "colab_type": "code",
        "colab": {}
      },
      "source": [
        "#importing other required packages\n",
        "from nltk.tokenize import word_tokenize\n",
        "from nltk import pos_tag\n",
        "from nltk.corpus import stopwords\n",
        "from nltk.stem import WordNetLemmatizer\n",
        "from sklearn.preprocessing import LabelEncoder\n",
        "from collections import defaultdict\n",
        "from nltk.corpus import wordnet as wn\n",
        "from sklearn.feature_extraction.text import TfidfVectorizer\n",
        "from sklearn import model_selection, naive_bayes, svm\n",
        "from sklearn.metrics import accuracy_score\n",
        "from sklearn.model_selection import train_test_split"
      ],
      "execution_count": null,
      "outputs": []
    },
    {
      "cell_type": "code",
      "metadata": {
        "id": "OEb3MW0YTvTq",
        "colab_type": "code",
        "colab": {}
      },
      "source": [
        "#setting the random seed for output reproducibility\n",
        "np.random.seed(500)"
      ],
      "execution_count": null,
      "outputs": []
    },
    {
      "cell_type": "code",
      "metadata": {
        "id": "YPlFkR5FT7FJ",
        "colab_type": "code",
        "colab": {}
      },
      "source": [
        "#data_preprocessing steps\n",
        "\n",
        "#Step-1 => Remove blank rows if any\n",
        "dataset['text'].dropna(inplace=True)\n",
        "\n",
        "#Step-2 => Tokenize the given text in the dataset and change it to lowercase\n",
        "#for entry in dataset['text']:\n",
        "  #tokens_list = list()\n",
        "  #tokens = word_tokenize(str(entry))\n",
        "  #for token in tokens:\n",
        "    #token = token.lower\n",
        "    #tokens_list.append(token)\n",
        "  #dataset['text'] = tokens_list\n",
        "\n",
        "dataset['text'] = [entry.lower() for entry in dataset['text']]\n",
        "dataset['text'] = [word_tokenize(entry) for entry in dataset['text']]\n",
        "\n",
        "#WordNetLemmatizer requires Pos tags to understand if the word is noun or verb or adjective etc. By default it is set to Noun\n",
        "tag_map = defaultdict(lambda : wn.NOUN)\n",
        "tag_map['J'] = wn.ADJ\n",
        "tag_map['V'] = wn.VERB\n",
        "tag_map['R'] = wn.ADV\n",
        "\n",
        "for index,entry in enumerate(dataset['text']):\n",
        "    # Declaring Empty List to store the words that follow the rules for this step\n",
        "    Final_words = []\n",
        "    # Initializing WordNetLemmatizer()\n",
        "    word_Lemmatized = WordNetLemmatizer()\n",
        "    # pos_tag function below will provide the 'tag' i.e if the word is Noun(N) or Verb(V) or something else.\n",
        "    for word, tag in pos_tag(entry):\n",
        "        # Below condition is to check for Stop words and consider only alphabets\n",
        "        if word not in stopwords.words('english') and word.isalpha():\n",
        "            word_Final = word_Lemmatized.lemmatize(word,tag_map[tag[0]])\n",
        "            Final_words.append(word_Final)\n",
        "    # The final processed set of words for each iteration will be stored in 'text_final'\n",
        "    dataset.loc[index,'text_final'] = str(Final_words)"
      ],
      "execution_count": null,
      "outputs": []
    },
    {
      "cell_type": "code",
      "metadata": {
        "id": "ts-5ocUcJ_mU",
        "colab_type": "code",
        "colab": {}
      },
      "source": [
        "#preparing the training and testing datasets\n",
        "X_train, X_test, Y_train, Y_test = train_test_split(dataset['text_final'], dataset['label'], test_size=0.3)"
      ],
      "execution_count": null,
      "outputs": []
    },
    {
      "cell_type": "code",
      "metadata": {
        "id": "q1kkk9SpMoDd",
        "colab_type": "code",
        "colab": {}
      },
      "source": [
        "#encoding the labels\n",
        "encoder = LabelEncoder()\n",
        "Y_train = encoder.fit_transform(Y_train)\n",
        "Y_test = encoder.fit_transform(Y_test)"
      ],
      "execution_count": null,
      "outputs": []
    },
    {
      "cell_type": "code",
      "metadata": {
        "id": "Tzg4Mh10M-Ir",
        "colab_type": "code",
        "colab": {
          "base_uri": "https://localhost:8080/",
          "height": 54
        },
        "outputId": "c04e35ca-f2c8-4a43-fb65-ac83c2c492f1"
      },
      "source": [
        "#word vectorization procedure\n",
        "tfidf_vect = TfidfVectorizer(max_features=5000)\n",
        "tfidf_vect.fit(dataset['text_final'])\n",
        "X_train_tfidf = tfidf_vect.transform(X_train)\n",
        "X_test_tfidf = tfidf_vect.transform(X_test)\n",
        "print(tfidf_vect.vocabulary_)"
      ],
      "execution_count": null,
      "outputs": [
        {
          "output_type": "stream",
          "text": [
            "{'stun': 4272, 'even': 1536, 'sound': 4129, 'track': 4552, 'beautiful': 385, 'paint': 3156, 'mind': 2831, 'well': 4866, 'would': 4952, 'recomend': 3595, 'people': 3228, 'hate': 2059, 'video': 4763, 'game': 1865, 'music': 2916, 'play': 3304, 'cross': 1024, 'ever': 1540, 'best': 423, 'back': 327, 'away': 317, 'crude': 1027, 'take': 4371, 'fresh': 1825, 'step': 4213, 'guitar': 2009, 'soulful': 4126, 'orchestra': 3091, 'impress': 2246, 'anyone': 201, 'care': 637, 'listen': 2616, 'soundtrack': 4131, 'anything': 202, 'read': 3561, 'lot': 2657, 'review': 3724, 'say': 3838, 'figure': 1703, 'write': 4957, 'disagree': 1230, 'bit': 444, 'ultimate': 4629, 'masterpiece': 2746, 'timeless': 4502, 'year': 4976, 'beauty': 387, 'simply': 4011, 'refuse': 3621, 'price': 3408, 'tag': 4370, 'pretty': 3403, 'must': 2922, 'go': 1932, 'buy': 598, 'cd': 668, 'much': 2907, 'money': 2866, 'one': 3069, 'feel': 1680, 'worth': 4948, 'every': 1542, 'penny': 3227, 'amaze': 149, 'favorite': 1668, 'time': 4501, 'hand': 2029, 'intense': 2331, 'sadness': 3808, 'prisoner': 3422, 'fate': 1663, 'mean': 2765, 'hope': 2158, 'distant': 1269, 'promise': 3448, 'girl': 1913, 'steal': 4208, 'star': 4197, 'important': 2243, 'inspiration': 2308, 'personally': 3247, 'throughout': 4483, 'teen': 4403, 'high': 2114, 'energy': 1473, 'like': 2595, 'trigger': 4588, 'absolutely': 7, 'superb': 4314, 'amazing': 150, 'probably': 3427, 'composer': 878, 'work': 4937, 'hear': 2076, 'ca': 602, 'sure': 4327, 'never': 2967, 'twice': 4616, 'wish': 4917, 'could': 971, 'give': 1915, 'excellent': 1567, 'truly': 4600, 'enjoy': 1483, 'disk': 1256, 'scar': 3843, 'life': 2585, 'death': 1093, 'ancient': 168, 'dragon': 1318, 'lose': 2653, 'drown': 1342, 'two': 4620, 'home': 2146, 'girlfriend': 1914, 'three': 4479, 'garden': 1876, 'god': 1934, 'sea': 3882, 'burn': 588, 'tower': 4547, 'radical': 3524, 'bring': 544, 'remember': 3658, 'pull': 3479, 'jaw': 2402, 'floor': 1757, 'know': 2485, 'single': 4020, 'song': 4110, 'tell': 4408, 'story': 4239, 'good': 1940, 'great': 1976, 'without': 4921, 'doubt': 1305, 'magical': 2689, 'wind': 4904, 'jewel': 2416, 'translation': 4567, 'perfect': 3234, 'ask': 262, 'pour': 3366, 'heart': 2079, 'paper': 3167, 'absolute': 6, 'quite': 3512, 'actually': 48, 'least': 2552, 'heard': 2077, 'whether': 4877, 'aware': 316, 'contribute': 937, 'greatly': 1977, 'mood': 2876, 'minute': 2840, 'whole': 4885, 'exact': 1557, 'count': 973, 'remarkable': 3656, 'assure': 274, 'forget': 1787, 'everything': 1546, 'listener': 2618, 'dance': 1066, 'slow': 4064, 'haunting': 2062, 'purely': 3489, 'beautifully': 386, 'compose': 877, 'fantastic': 1651, 'vocal': 4797, 'surely': 4328, 'buyer': 599, 'beware': 426, 'book': 488, 'want': 4819, 'paragraph': 3174, 'family': 1646, 'friend': 1829, 'perhaps': 3240, 'imagine': 2233, 'thing': 4464, 'spend': 4158, 'evening': 1537, 'piece': 3276, 'another': 189, 'definitely': 1122, 'bad': 332, 'enough': 1489, 'enter': 1492, 'kind': 2469, 'contest': 929, 'believe': 404, 'amazon': 152, 'sell': 3907, 'maybe': 2759, 'offer': 3055, 'grade': 1956, 'term': 4425, 'kill': 2466, 'anyway': 204, 'unless': 4672, 'send': 3909, 'someone': 4103, 'joke': 2430, 'far': 1653, 'glorious': 1924, 'love': 2662, 'wicked': 4888, 'saint': 3812, 'pleasantly': 3312, 'surprise': 4334, 'change': 692, 'romance': 3769, 'novel': 3020, 'world': 4942, 'rave': 3556, 'brilliant': 542, 'true': 4598, 'wonderful': 4930, 'typical': 4622, 'crime': 1011, 'becuase': 391, 'miss': 2848, 'warm': 4822, 'five': 1736, 'finish': 1719, 'fell': 1683, 'expect': 1590, 'average': 310, 'instead': 2319, 'find': 1715, 'think': 4465, 'predict': 3382, 'outcome': 3113, 'shock': 3974, 'descriptive': 1163, 'break': 527, 'julia': 2440, 'felt': 1686, 'reader': 3563, 'lover': 2665, 'let': 2573, 'cover': 985, 'fool': 1779, 'spectacular': 4153, 'easy': 1392, 'make': 2699, 'keep': 2456, 'reading': 3565, 'put': 3495, 'leave': 2554, 'follow': 1773, 'come': 831, 'soon': 4114, 'use': 4709, 'get': 1903, 'enjoyable': 1484, 'complete': 869, 'waste': 4837, 'error': 1517, 'poor': 3338, 'grammar': 1961, 'totally': 4539, 'pathetic': 3201, 'plot': 3317, 'add': 55, 'nothing': 3015, 'embarrass': 1449, 'author': 302, 'disappointed': 1234, 'pay': 3210, 'fast': 1660, 'boy': 513, 'twist': 4618, 'turn': 4609, 'guess': 2001, 'happen': 2035, 'next': 2975, 'fall': 1642, 'heat': 2081, 'also': 138, 'several': 3937, 'emotion': 1453, 'quick': 3506, 'something': 4104, 'end': 1468, 'day': 1084, 'night': 2984, 'yet': 4984, 'realistic': 3570, 'show': 3985, 'human': 2190, 'fact': 1628, 'writer': 4959, 'side': 3992, 'glass': 1918, 'castle': 655, 'oh': 3061, 'please': 3313, 'others': 3108, 'drivel': 1339, 'trouble': 4596, 'typo': 4624, 'feature': 1672, 'first': 1728, 'page': 3152, 'remove': 3667, 'wait': 4810, 'point': 3327, 'beginning': 398, 'clear': 784, 'intentional': 2334, 'prose': 3461, 'purpose': 3492, 'glad': 1916, 'awful': 320, 'beyond': 427, 'belief': 402, 'seem': 3900, 'grader': 1957, 'grammatical': 1962, 'skill': 4038, 'age': 96, 'reviewer': 3725, 'per': 3230, 'chapter': 695, 'example': 1562, 'mention': 2798, 'lean': 2548, 'house': 2178, 'distract': 1272, 'writing': 4960, 'weak': 4848, 'decide': 1102, 'pencil': 3225, 'mark': 2726, 'horrible': 2163, 'relative': 3639, 'faith': 1640, 'try': 4603, 'fake': 1641, 'obvious': 3039, 'glow': 1927, 'person': 3244, 'sentence': 3917, 'structure': 4264, 'romantic': 3770, 'zen': 4994, 'baseball': 355, 'comedy': 833, 'folk': 1772, 'anymore': 200, 'might': 2819, 'talk': 4375, 'cool': 954, 'young': 4989, 'search': 3886, 'stumble': 4271, 'resort': 3701, 'kitchen': 2477, 'gig': 1910, 'motorcycle': 2894, 'man': 2705, 'italian': 2381, 'right': 3745, 'team': 4394, 'owner': 3142, 'often': 3060, 'case': 650, 'honest': 2151, 'comical': 840, 'always': 146, 'emotional': 1454, 'interaction': 2336, 'player': 3307, 'mix': 2853, 'special': 4149, 'effect': 1413, 'salsa': 3815, 'big': 430, 'compression': 882, 'stocking': 4231, 'doctor': 1283, 'require': 3689, 'wear': 4852, 'ugly': 4627, 'white': 4882, 'hose': 2170, 'thick': 4460, 'brown': 554, 'jobst': 2423, 'need': 2954, 'look': 2647, 'regular': 3629, 'though': 4473, 'blood': 465, 'still': 4224, 'support': 4321, 'leg': 2558, 'nice': 2976, 'problem': 3429, 'top': 4530, 'roll': 3765, 'thigh': 4462, 'hat': 2058, 'skin': 4040, 'inexpensive': 2283, 'belt': 412, 'fine': 1717, 'help': 2094, 'product': 3434, 'however': 2182, 'difficult': 1211, 'old': 3065, 'full': 1844, 'workout': 4941, 'begin': 396, 'create': 1001, 'deep': 1110, 'difficulty': 1212, 'address': 61, 'size': 4032, 'recomended': 3596, 'chart': 707, 'real': 3567, 'small': 4066, 'sheer': 3959, 'item': 2383, 'store': 4236, 'check': 714, 'men': 2794, 'model': 2859, 'may': 2758, 'ok': 3063, 'type': 4621, 'active': 43, 'around': 238, 'alot': 133, 'job': 2422, 'consistently': 916, 'found': 1802, 'ankle': 180, 'solution': 4098, 'standard': 4194, 'stock': 4230, 'stay': 4207, 'pair': 3158, 'tear': 4395, 'struggle': 4265, 'investment': 2362, 'delicious': 1135, 'funny': 1853, 'quickly': 3507, 'package': 3147, 'notice': 3016, 'since': 4014, 'convenience': 943, 'wrap': 4955, 'plastic': 3300, 'log': 2637, 'messy': 2806, 'extremely': 1621, 'sticky': 4222, 'ratio': 3554, 'ingredient': 2293, 'extra': 1617, 'butter': 596, 'really': 3573, 'large': 2518, 'chocolate': 734, 'chip': 732, 'addition': 59, 'flavor': 1743, 'digital': 1214, 'copy': 956, 'rather': 3552, 'scratch': 3871, 'random': 3537, 'combine': 829, 'light': 2589, 'vague': 4724, 'image': 2229, 'resolution': 3698, 'packaging': 3148, 'straight': 4243, 'street': 4252, 'corner': 960, 'bootleg': 493, 'see': 3898, 'reasonably': 3578, 'condition': 895, 'film': 1707, 'define': 1119, 'visuals': 4791, 'crystal': 1031, 'contrast': 936, 'black': 448, 'surround': 4339, 'countryside': 977, 'scene': 3851, 'set': 3932, 'early': 1382, 'morning': 2883, 'ground': 1993, 'memory': 2793, 'event': 1538, 'bridge': 539, 'water': 4842, 'bright': 541, 'dull': 1360, 'dark': 1073, 'cloud': 803, 'captain': 629, 'command': 841, 'hard': 2042, 'award': 315, 'acclaim': 23, 'presentation': 3396, 'youtube': 4992, 'somewhere': 4108, 'dvd': 1371, 'public': 3474, 'library': 2581, 'none': 3001, 'appear': 215, 'fascinating': 1658, 'insight': 2305, 'modern': 2860, 'japanese': 2398, 'thoroughly': 4471, 'rise': 3749, 'son': 4109, 'daughter': 1080, 'society': 4088, 'view': 4764, 'parent': 3179, 'culture': 1036, 'community': 851, 'peer': 3221, 'western': 4868, 'form': 1789, 'new': 2969, 'japan': 2397, 'international': 2343, 'blend': 458, 'demonstrate': 1146, 'private': 3424, 'member': 2790, 'steven': 4218, 'clearly': 785, 'talented': 4374, 'adopt': 70, 'school': 3858, 'four': 1804, 'thus': 4487, 'able': 3, 'inside': 2304, 'album': 117, 'thought': 4474, 'blue': 469, 'angel': 172, 'hair': 2021, 'singer': 4018, 'talent': 4373, 'charge': 699, 'charger': 700, 'aa': 0, 'battery': 370, 'huge': 2187, 'secure': 3895, 'flip': 1755, 'little': 2625, 'button': 597, 'positive': 3353, 'pop': 3340, 'wo': 4925, 'hold': 2136, 'mechanism': 2774, 'become': 389, 'loose': 2649, 'pressure': 3400, 'push': 3494, 'tape': 4381, 'segment': 3902, 'apply': 220, 'painful': 3154, 'advertised': 80, 'instruction': 2320, 'dont': 1299, 'do': 1281, 'hour': 2177, 'return': 3718, 'useless': 4712, 'backup': 331, 'manage': 2706, 'drain': 1319, 'purchase': 3487, 'convenient': 944, 'last': 2522, 'short': 3980, 'long': 2645, 'dear': 1092, 'excite': 1575, 'muslim': 2921, 'volume': 4801, 'live': 2626, 'essay': 1521, 'among': 158, 'describe': 1160, 'explain': 1601, 'woman': 4928, 'cape': 627, 'town': 4548, 'claim': 768, 'separate': 3919, 'equal': 1508, 'hop': 2157, 'feminist': 1689, 'surprised': 4335, 'virtue': 4783, 'female': 1687, 'base': 354, 'christmas': 748, 'present': 3395, 'join': 2428, 'rest': 3708, 'vhs': 4753, 'movie': 2902, 'tv': 4614, 'choice': 735, 'agree': 100, 'awkward': 322, 'selection': 3905, 'option': 3089, 'hang': 2034, 'comment': 842, 'complicated': 874, 'many': 2718, 'remote': 3664, 'rely': 3650, 'heavily': 2085, 'manual': 2715, 'vcr': 4737, 'timer': 4504, 'start': 4200, 'scroll': 3879, 'complaint': 868, 'incorrect': 2266, 'disc': 1238, 'fan': 1648, 'saw': 3836, 'unit': 4666, 'section': 3894, 'happy': 2041, 'click': 789, 'receiver': 3586, 'transition': 4565, 'smooth': 4073, 'pause': 3209, 'fairly': 1638, 'message': 2805, 'nut': 3030, 'television': 4407, 'bookshelf': 490, 'audio': 293, 'system': 4364, 'car': 634, 'move': 2900, 'room': 3774, 'combo': 830, 'except': 1568, 'cable': 604, 'box': 510, 'control': 940, 'input': 2301, 'programming': 3444, 'mono': 2869, 'wife': 4895, 'difference': 1208, 'title': 4514, 'hollywood': 2142, 'ridiculous': 3742, 'wonder': 4929, 'script': 3877, 'mountain': 2897, 'lion': 2610, 'trailer': 4559, 'behind': 400, 'capture': 633, 'jail': 2392, 'cell': 672, 'utterly': 4721, 'completely': 870, 'stupid': 4274, 'bet': 424, 'hotel': 2175, 'incredible': 2268, 'act': 40, 'bbc': 375, 'soap': 4083, 'max': 2756, 'mariah': 2723, 'drama': 1320, 'series': 3925, 'opera': 3077, 'air': 106, 'america': 154, 'episode': 1506, 'season': 3887, 'finale': 1711, 'interesting': 2339, 'remind': 3659, 'reason': 3576, 'fictional': 1694, 'san': 3820, 'francisco': 1812, 'recommend': 3597, 'willing': 4901, 'watch': 4839, 'already': 136, 'law': 2534, 'seriously': 3927, 'unfortunately': 4658, 'entertain': 1493, 'order': 3092, 'hip': 2124, 'daddy': 1059, 'vibe': 4755, 'fourth': 1805, 'class': 774, 'main': 2693, 'playing': 3308, 'voice': 4799, 'party': 3188, 'anywhere': 206, 'neighborhood': 2960, 'laugh': 2528, 'beach': 378, 'grow': 1995, 'surfer': 4331, 'southern': 4135, 'california': 607, 'brother': 553, 'honestly': 2152, 'kinda': 2470, 'surf': 4329, 'hell': 2092, 'moral': 2880, 'aspect': 264, 'american': 155, 'explanation': 1602, 'simple': 4007, 'focus': 1770, 'individual': 2278, 'ignore': 2220, 'personal': 3245, 'responsibility': 3706, 'final': 1710, 'response': 3705, 'robert': 3758, 'seller': 3908, 'disgust': 1252, 'state': 4202, 'medium': 2780, 'politics': 3334, 'general': 1887, 'head': 2068, 'substantial': 4285, 'challenge': 688, 'lie': 2584, 'being': 401, 'larry': 2520, 'label': 2496, 'late': 2523, 'explore': 1605, 'rich': 3736, 'catalog': 658, 'jazz': 2405, 'musician': 2918, 'stand': 4193, 'mile': 2824, 'mac': 2678, 'line': 2606, 'windows': 4906, 'frustrating': 1840, 'excited': 1576, 'attempt': 283, 'touch': 4540, 'mouse': 2898, 'arrow': 243, 'keyboard': 2463, 'fun': 1846, 'disapointed': 1231, 'attention': 285, 'level': 2576, 'rescue': 3692, 'hero': 2103, 'dog': 1288, 'former': 1792, 'repeatedly': 3675, 'recipe': 3592, 'throw': 4484, 'cup': 1038, 'nearly': 2949, 'compare': 858, 'ed': 1401, 'wood': 4933, 'flawlessly': 1746, 'lisa': 2614, 'wild': 4897, 'bread': 526, 'novice': 3022, 'place': 3292, 'reliable': 3645, 'concise': 892, 'information': 2290, 'maintain': 2696, 'fabulous': 1626, 'pass': 3190, 'historical': 2128, 'interest': 2337, 'warrant': 4829, 'cost': 966, 'alaska': 115, 'visit': 4787, 'starter': 4201, 'collection': 821, 'advise': 84, 'ruth': 3801, 'picture': 3274, 'past': 3195, 'ago': 99, 'mixer': 2855, 'stuff': 4270, 'pot': 3362, 'close': 796, 'download': 1310, 'decade': 1098, 'background': 329, 'hunt': 2198, 'melody': 2788, 'english': 1480, 'lyric': 2676, 'else': 1442, 'via': 4754, 'happily': 2039, 'ipod': 2368, 'experience': 1595, 'fm': 1768, 'rattle': 3555, 'sometimes': 4106, 'quality': 3497, 'screen': 3873, 'thru': 4485, 'middle': 2817, 'plus': 3320, 'dead': 1087, 'layout': 2537, 'sense': 3912, 'engineering': 1478, 'imo': 2237, 'refund': 3620, 'name': 2930, 'hesitant': 2105, 'flat': 1742, 'panel': 3165, 'lcd': 2540, 'build': 576, 'weight': 4863, 'space': 4138, 'save': 3835, 'attractive': 291, 'design': 1166, 'sharp': 3957, 'playback': 3306, 'negative': 2958, 'function': 1847, 'key': 2462, 'due': 1357, 'color': 825, 'almost': 130, 'carefully': 640, 'terrible': 4427, 'birthday': 442, 'fail': 1634, 'junk': 2449, 'capable': 625, 'recall': 3581, 'flash': 1740, 'channel': 693, 'sony': 4113, 'universal': 4668, 'learn': 2550, 'factory': 1630, 'deal': 1090, 'user': 4713, 'annoy': 186, 'replace': 3678, 'tube': 4604, 'gain': 1863, 'counter': 974, 'internal': 2342, 'bonus': 486, 'defective': 1115, 'electronics': 1432, 'express': 1610, 'contact': 924, 'number': 3027, 'pick': 3271, 'arrive': 242, 'week': 4860, 'later': 2525, 'clarity': 772, 'mode': 2858, 'loud': 2658, 'rv': 3802, 'run': 3794, 'barely': 350, 'solve': 4099, 'jack': 2389, 'stereo': 4215, 'speaker': 4145, 'lightweight': 2594, 'antenna': 192, 'opinion': 3081, 'bias': 428, 'angle': 174, 'europe': 1532, 'clean': 782, 'proper': 3456, 'shed': 3958, 'understand': 4647, 'guide': 2004, 'tour': 4543, 'country': 976, 'reference': 3614, 'travel': 4572, 'outline': 3119, 'detail': 1176, 'disappointment': 1236, 'realy': 3574, 'everybody': 1543, 'combination': 828, 'illustration': 2227, 'text': 4438, 'overall': 3124, 'sight': 3993, 'city': 765, 'european': 1533, 'thank': 4443, 'lonely': 2644, 'planet': 3297, 'info': 2288, 'surface': 4330, 'receive': 3585, 'germany': 1902, 'overview': 3136, 'greece': 1979, 'spanish': 4140, 'sort': 4124, 'printing': 3419, 'highlight': 2115, 'front': 1836, 'course': 981, 'kid': 2465, 'jay': 2404, 'eric': 1514, 'tender': 4421, 'rock': 3760, 'offend': 3053, 'either': 1422, 'depend': 1151, 'foot': 1780, 'accept': 16, 'way': 4846, 'gift': 1908, 'husband': 2203, 'date': 1078, 'disappointing': 1235, 'plate': 3301, 'inferior': 2284, 'previous': 3406, 'edition': 1406, 'ahead': 102, 'homer': 2147, 'helpful': 2095, 'gem': 1886, 'complex': 871, 'subject': 4280, 'second': 3890, 'century': 680, 'religious': 3649, 'authority': 303, 'serious': 3926, 'period': 3241, 'essential': 1523, 'argue': 233, 'yes': 4982, 'cardboard': 636, 'beat': 383, 'cheesy': 717, 'across': 39, 'entire': 1498, 'solid': 4095, 'decent': 1101, 'distance': 1268, 'scrap': 3870, 'noticeable': 3017, 'plenty': 3316, 'material': 2750, 'loosely': 2650, 'bottom': 503, 'ship': 3969, 'exchange': 1574, 'damage': 1063, 'risk': 3750, 'unknown': 4671, 'africa': 92, 'produce': 3432, 'mixture': 2856, 'african': 93, 'feeling': 1681, 'soft': 4090, 'fit': 1733, 'record': 3600, 'france': 1810, 'paris': 3180, 'professional': 3437, 'hot': 2174, 'lazy': 2538, 'expectation': 1591, 'shoe': 3976, 'rip': 3748, 'apart': 209, 'sole': 4093, 'clark': 773, 'sadly': 3807, 'within': 4920, 'month': 2874, 'similar': 4004, 'profound': 3441, 'narrative': 2933, 'style': 4277, 'famous': 1647, 'john': 2425, 'frequently': 1824, 'carry': 646, 'tone': 4526, 'amateur': 147, 'historian': 2127, 'neither': 2961, 'graduate': 1958, 'consider': 913, 'represent': 3683, 'today': 4515, 'research': 3693, 'thin': 4463, 'conclude': 893, 'essentially': 1524, 'primary': 3412, 'secondary': 3891, 'source': 4133, 'rat': 3550, 'yr': 4993, 'barbie': 347, 'computer': 884, 'worry': 4944, 'vibrant': 4756, 'friendly': 1830, 'mommy': 2865, 'ton': 4525, 'together': 4519, 'decorate': 1106, 'alone': 131, 'creativity': 1004, 'adventure': 78, 'addict': 57, 'opening': 3076, 'sing': 4017, 'non': 3000, 'stop': 4234, 'prince': 3415, 'program': 3442, 'cry': 1030, 'child': 725, 'currently': 1044, 'bedroom': 393, 'result': 3713, 'painting': 3157, 'halfway': 2024, 'exit': 1586, 'freeze': 1821, 'spot': 4174, 'urge': 4703, 'software': 4091, 'reboot': 3580, 'site': 4027, 'frustrate': 1838, 'fault': 1665, 'catch': 660, 'bug': 573, 'buck': 564, 'avoid': 312, 'creative': 1003, 'granddaughter': 1965, 'plan': 3295, 'imagination': 2231, 'fight': 1700, 'choose': 737, 'theme': 4450, 'allow': 127, 'power': 3368, 'stone': 4233, 'animation': 178, 'bore': 495, 'adult': 73, 'variation': 4732, 'scheme': 3855, 'pattern': 3206, 'highly': 2116, 'rental': 3672, 'basically': 359, 'sister': 4025, 'os': 3106, 'classic': 775, 'multiple': 2911, 'access': 18, 'everytime': 1547, 'task': 4383, 'sequence': 3923, 'file': 1704, 'crash': 995, 'possible': 3355, 'grand': 1963, 'patience': 3202, 'survive': 4342, 'trial': 4583, 'substitute': 4286, 'vendor': 4745, 'feedback': 1676, 'rate': 3551, 'bother': 501, 'future': 1856, 'company': 856, 'mistake': 2851, 'hundred': 2196, 'dollar': 1293, 'building': 577, 'careful': 639, 'smell': 4069, 'bottle': 502, 'delicate': 1134, 'summer': 4311, 'impressed': 2247, 'creepy': 1009, 'wow': 4954, 'revenge': 3722, 'door': 1301, 'open': 3074, 'prepare': 3392, 'didnt': 1203, 'menu': 2799, 'exist': 1584, 'matter': 2753, 'exception': 1569, 'dubbing': 1352, 'sub': 4279, 'par': 3170, 'remain': 3652, 'shame': 3953, 'original': 3100, 'offering': 3056, 'sooo': 4116, 'official': 3059, 'production': 3435, 'screw': 3876, 'pioneer': 3285, 'sad': 3806, 'ya': 4970, 'rap': 3543, 'ta': 4365, 'blow': 467, 'jam': 2393, 'ride': 3741, 'underrated': 4646, 'houston': 2180, 'pat': 3198, 'steve': 4217, 'regardless': 3624, 'alive': 124, 'legacy': 2559, 'dirty': 1229, 'south': 4134, 'guest': 2002, 'fat': 1662, 'chris': 743, 'chronicle': 750, 'farm': 1656, 'photo': 3262, 'version': 4751, 'bill': 432, 'history': 2130, 'relationship': 3638, 'treasure': 4576, 'keeper': 2457, 'draw': 1323, 'idea': 2211, 'comfy': 838, 'lounge': 2660, 'cake': 606, 'topper': 4532, 'june': 2446, 'estimate': 1528, 'shipping': 3971, 'july': 2443, 'wrong': 4961, 'pearl': 3216, 'kit': 2476, 'cute': 1052, 'provide': 3468, 'annoyed': 187, 'include': 2259, 'trust': 4601, 'additional': 60, 'sweet': 4353, 'grace': 1955, 'email': 1446, 'supply': 4320, 'list': 2615, 'sheet': 3960, 'ready': 3566, 'boot': 492, 'phone': 3261, 'manufacturer': 2717, 'unreliable': 4683, 'critic': 1017, 'consumer': 923, 'alike': 122, 'release': 3642, 'debut': 1097, 'radio': 3525, 'hit': 2131, 'dj': 1280, 'band': 343, 'hopefully': 2160, 'club': 804, 'sale': 3814, 'practically': 3372, 'leap': 2549, 'grab': 1954, 'neck': 2953, 'upcoming': 4691, 'omg': 3067, 'own': 3141, 'saturday': 3834, 'cause': 665, 'classical': 776, 'jason': 2400, 'lead': 2542, 'moment': 2864, 'relief': 3646, 'achieve': 33, 'suggest': 4304, 'skip': 4042, 'finally': 1712, 'horribly': 2164, 'lack': 2500, 'mystery': 2924, 'ten': 4419, 'educational': 1410, 'train': 4560, 'shape': 3954, 'guarantee': 1998, 'puzzle': 3496, 'range': 3539, 'silly': 4002, 'odd': 3047, 'theory': 4452, 'concert': 891, 'string': 4258, 'appreciate': 221, 'excelent': 1563, 'rendition': 3669, 'caution': 666, 'remastered': 3657, 'irrelevant': 2375, 'textbook': 4439, 'transaction': 4562, 'engage': 1474, 'te': 4389, 'wash': 4832, 'shore': 3979, 'colin': 817, 'tess': 4435, 'opposite': 3084, 'attract': 289, 'call': 608, 'trashy': 4571, 'usually': 4717, 'tie': 4491, 'blond': 464, 'enchant': 1465, 'heroine': 2104, 'part': 3182, 'content': 928, 'island': 2378, 'solitude': 4096, 'shake': 3948, 'fear': 1670, 'strange': 4246, 'strike': 4257, 'friendship': 1831, 'courage': 980, 'amusing': 162, 'mostly': 2886, 'characterization': 698, 'character': 696, 'introduce': 2354, 'behavior': 399, 'development': 1184, 'force': 1783, 'improve': 2250, 'towards': 4546, 'portable': 3346, 'drive': 1338, 'disappoint': 1233, 'performance': 3238, 'constantly': 919, 'half': 2023, 'uncomfortable': 4642, 'pant': 3166, 'incredibly': 2269, 'stiff': 4223, 'authentic': 301, 'encounter': 1466, 'yoruba': 4988, 'particular': 3184, 'certain': 682, 'nuance': 3024, 'speak': 4144, 'anybody': 199, 'clue': 805, 'question': 3504, 'unanswered': 4636, 'note': 3014, 'impossible': 2245, 'native': 2940, 'confuse': 904, 'teach': 4391, 'basic': 358, 'vocabulary': 4796, 'specific': 4151, 'vehicle': 4741, 'correct': 964, 'mat': 2748, 'duplicate': 1366, 'therefore': 4456, 'sit': 4026, 'grandchild': 1964, 'value': 4727, 'toe': 4517, 'kelly': 2458, 'pet': 3250, 'parade': 3173, 'dress': 1332, 'pony': 3336, 'jump': 2444, 'etc': 1530, 'animal': 176, 'nail': 2929, 'float': 1756, 'accomplish': 25, 'along': 132, 'wonderfully': 4931, 'instal': 2312, 'laptop': 2516, 'tough': 4542, 'bear': 381, 'fish': 1729, 'finger': 1718, 'pad': 3149, 'load': 2631, 'different': 1209, 'endless': 1470, 'graphic': 1970, 'colorful': 826, 'winner': 4909, 'reinstall': 3632, 'issue': 2380, 'activity': 44, 'slip': 4060, 'heel': 2088, 'satisfy': 3832, 'manner': 2712, 'awesome': 319, 'advertisement': 81, 'claire': 769, 'uk': 4628, 'assume': 273, 'available': 308, 'england': 1479, 'arcade': 227, 'ive': 2386, 'playstation': 3310, 'guy': 2013, 'compatible': 862, 'machine': 2680, 'deeply': 1111, 'stage': 4187, 'revolution': 3727, 'equivalent': 1512, 'unheard': 4660, 'favourite': 1669, 'situation': 4028, 'lucky': 2671, 'letter': 2575, 'admit': 68, 'michael': 2814, 'montgomery': 2873, 'approach': 223, 'couple': 979, 'beer': 394, 'devil': 1186, 'spice': 4160, 'cuz': 1054, 'soldier': 4092, 'punk': 3485, 'hr': 2184, 'ball': 336, 'este': 1527, 'libro': 2582, 'lo': 2630, 'que': 3501, 'el': 1424, 'si': 3990, 'de': 1086, 'con': 885, 'mi': 2813, 'ex': 1556, 'cereal': 681, 'hook': 2155, 'eat': 1393, 'especially': 1520, 'taste': 4384, 'hungry': 2197, 'bunch': 584, 'fill': 1705, 'word': 4935, 'warning': 4828, 'local': 2632, 'walmart': 4815, 'church': 754, 'bowl': 509, 'timber': 4500, 'frame': 1809, 'technical': 4397, 'joint': 2429, 'span': 4139, 'mill': 2827, 'museum': 2915, 'master': 2744, 'recent': 3587, 'trip': 4591, 'avid': 311, 'breeze': 535, 'various': 4734, 'illustrate': 2226, 'fascinate': 1657, 'practical': 3371, 'outstanding': 3123, 'although': 142, 'construction': 921, 'invaluable': 2357, 'process': 3431, 'editing': 1405, 'spell': 4157, 'caption': 630, 'cap': 624, 'traditional': 4555, 'print': 3417, 'drawing': 1325, 'inform': 2289, 'project': 3447, 'internet': 2344, 'dip': 1221, 'temperature': 4413, 'shrink': 3988, 'egg': 1417, 'transfer': 4563, 'needless': 2956, 'intelligent': 2329, 'immediately': 2235, 'property': 3458, 'explicit': 1603, 'war': 4820, 'coast': 807, 'pc': 3211, 'sink': 4023, 'meant': 2769, 'race': 3518, 'battlefield': 372, 'landscape': 2510, 'slide': 4056, 'total': 4536, 'rubbish': 3788, 'mine': 2833, 'ireland': 2370, 'florida': 1760, 'costly': 967, 'henry': 2100, 'nose': 3012, 'chew': 721, 'nobody': 2995, 'worn': 4943, 'clone': 795, 'forty': 1799, 'dad': 1058, 'ill': 2223, 'significance': 3997, 'battle': 371, 'obsession': 3037, 'replacement': 3679, 'closet': 799, 'shelf': 3961, 'thread': 4478, 'bare': 349, 'online': 3070, 'overwhelm': 3137, 'less': 2571, 'thanks': 4445, 'disney': 1260, 'toy': 4550, 'six': 4029, 'contemporary': 927, 'delight': 1136, 'snow': 4080, 'ups': 4698, 'reward': 3729, 'forward': 1801, 'detailed': 1177, 'sketch': 4037, 'excitement': 1577, 'actual': 47, 'complicate': 873, 'beginner': 397, 'thrill': 4480, 'instructional': 2321, 'match': 2749, 'cushion': 1048, 'description': 1162, 'deliver': 1138, 'impression': 2248, 'insert': 2303, 'attach': 281, 'strap': 4249, 'definately': 1118, 'luckily': 2670, 'policy': 3330, 'free': 1819, 'sex': 3941, 'publish': 3476, 'broadway': 550, 'theatre': 4448, 'archive': 229, 'witty': 4924, 'ruin': 3791, 'costume': 968, 'absurd': 10, 'blanket': 454, 'acting': 41, 'btw': 562, 'director': 1227, 'goal': 1933, 'intention': 2333, 'recording': 3601, 'extended': 1613, 'drinking': 1336, 'blurry': 474, 'audience': 292, 'charm': 705, 'chance': 690, 'student': 4267, 'compilation': 866, 'perform': 3237, 'artist': 250, 'poorly': 3339, 'wave': 4845, 'prior': 3420, 'imply': 2240, 'garbage': 1874, 'prompt': 3451, 'november': 3021, 'nowhere': 3023, 'deceive': 1099, 'group': 1994, 'duh': 1358, 'trash': 4570, 'reception': 3589, 'session': 3931, 'sounding': 4130, 'cheap': 711, 'vocalist': 4798, 'die': 1204, 'camera': 610, 'continue': 931, 'included': 2260, 'tech': 4396, 'mr': 2904, 'curious': 1042, 'producer': 3433, 'realize': 3572, 'reveal': 3720, 'crucial': 1026, 'unbelievable': 4638, 'earlier': 1381, 'detective': 1179, 'attorney': 288, 'unfold': 4655, 'abuse': 11, 'childhood': 727, 'forgive': 1788, 'successful': 4292, 'spite': 4168, 'horrendous': 2162, 'lord': 2651, 'refer': 3613, 'peter': 3251, 'major': 2697, 'league': 2546, 'score': 3867, 'extensive': 1615, 'resource': 3702, 'deserve': 1165, 'tomorrow': 4524, 'till': 4497, 'massive': 2743, 'living': 2628, 'subscription': 4281, 'coverage': 986, 'minor': 2837, 'college': 823, 'brand': 522, 'steer': 4211, 'secret': 3892, 'joe': 2424, 'al': 112, 'phil': 3256, 'intriguing': 2352, 'influence': 2286, 'titan': 4512, 'exploration': 1604, 'jet': 2415, 'craft': 990, 'fuel': 1843, 'atmosphere': 279, 'originally': 3102, 'intrigue': 2351, 'father': 1664, 'mission': 2850, 'reality': 3571, 'fantasy': 1652, 'david': 1082, 'asimov': 261, 'peek': 3219, 'block': 462, 'obviously': 3040, 'fails': 1635, 'noise': 2997, 'incorporate': 2265, 'easily': 1389, 'identify': 2214, 'banana': 342, 'penguin': 3226, 'wall': 4814, 'smash': 4068, 'drop': 1341, 'treatment': 4578, 'art': 244, 'collector': 822, 'twin': 4617, 'learning': 2551, 'tool': 4528, 'fisher': 1730, 'spin': 4163, 'queen': 3502, 'stack': 4186, 'knock': 2483, 'bang': 344, 'plain': 3294, 'wooden': 4934, 'object': 3032, 'opportunity': 3082, 'eye': 1623, 'decision': 1103, 'overnight': 3130, 'rocket': 3761, 'scientist': 3863, 'rub': 3786, 'dissapointing': 1265, 'concept': 888, 'baby': 326, 'mother': 2887, 'imaginative': 2232, 'edge': 1403, 'safety': 3810, 'grandson': 1968, 'goodness': 1943, 'interested': 2338, 'manipulate': 2710, 'adorable': 71, 'upgrade': 4694, 'format': 1790, 'storage': 4235, 'durable': 1368, 'perfectly': 3236, 'hurt': 2202, 'category': 662, 'factor': 1629, 'fully': 1845, 'comprehend': 880, 'dig': 1213, 'broke': 551, 'waterproof': 4843, 'whale': 4870, 'mary': 2738, 'study': 4269, 'communication': 848, 'washington': 4835, 'direct': 1223, 'nifty': 2983, 'halloween': 2026, 'dummy': 1363, 'nevertheless': 2968, 'depict': 1152, 'liked': 2597, 'certainly': 683, 'campaign': 613, 'academic': 13, 'organization': 3097, 'dedicate': 1109, 'propaganda': 3455, 'office': 3057, 'regularly': 3630, 'hide': 2111, 'terrorist': 4433, 'weapon': 4851, 'violence': 4777, 'intend': 2330, 'innocent': 2299, 'murder': 2913, 'extreme': 1620, 'formula': 1793, 'fortunately': 1797, 'hesitate': 2106, 'chinese': 731, 'green': 1981, 'red': 3605, 'logo': 2640, 'fx': 1860, 'serial': 3924, 'handful': 2031, 'memorable': 2792, 'seal': 3883, 'wing': 4908, 'blame': 451, 'self': 3906, 'sorry': 4123, 'travesty': 4574, 'killer': 2467, 'supernatural': 4317, 'storyline': 4240, 'hole': 2138, 'gory': 1949, 'confusing': 906, 'stephen': 4214, 'initially': 2295, 'indie': 2277, 'horror': 2168, 'flick': 1751, 'jennifer': 2410, 'weekend': 4861, 'bernie': 420, 'terry': 4434, 'actor': 45, 'lol': 2641, 'anyways': 205, 'mask': 2739, 'maker': 2700, 'suspense': 4344, 'display': 1261, 'effort': 1416, 'dialogue': 1195, 'tree': 4579, 'root': 3775, 'yard': 4972, 'knee': 2478, 'cinematic': 758, 'path': 3200, 'typically': 4623, 'predictable': 3383, 'fashion': 1659, 'victim': 4761, 'face': 1627, 'motivation': 2892, 'entry': 1501, 'familiar': 1645, 'cast': 653, 'effective': 1414, 'treat': 4577, 'williams': 4900, 'role': 3764, 'lee': 2556, 'doom': 1300, 'equally': 1509, 'ii': 2221, 'filmmaker': 1708, 'borrow': 499, 'everyone': 1545, 'elevate': 1436, 'unimaginative': 4661, 'exactly': 1558, 'fright': 1832, 'safe': 3809, 'boring': 498, 'brief': 540, 'appearance': 216, 'icon': 2210, 'genre': 1895, 'artifact': 248, 'card': 635, 'yellow': 4979, 'ordinary': 3094, 'holocaust': 2144, 'diary': 1199, 'extract': 1618, 'eastern': 1391, 'medicine': 2778, 'dissappointed': 1267, 'unhappy': 4659, 'practice': 3373, 'primer': 3414, 'basis': 360, 'application': 219, 'philosophy': 3260, 'emphasize': 1460, 'natural': 2941, 'balance': 335, 'nature': 2943, 'informative': 2291, 'warcraft': 4821, 'redundant': 3611, 'combat': 827, 'pleasure': 3315, 'respect': 3703, 'ambient': 153, 'enthusiast': 1497, 'whatsoever': 4873, 'darn': 1076, 'guitarist': 2010, 'utopia': 4718, 'dissapointed': 1264, 'direction': 1225, 'dry': 1347, 'pillow': 3280, 'advertise': 79, 'post': 3357, 'tiny': 4507, 'foam': 1769, 'worthless': 4949, 'amount': 159, 'whatever': 4871, 'super': 4313, 'handle': 2032, 'heavy': 2086, 'dense': 1147, 'cant': 622, 'prop': 3454, 'sleep': 4051, 'otherwise': 3109, 'position': 3352, 'width': 4893, 'rotate': 3779, 'lay': 2535, 'false': 1643, 'military': 2825, 'pic': 3270, 'reply': 3681, 'serum': 3928, 'tend': 4420, 'rid': 3739, 'weather': 4853, 'somehow': 4102, 'double': 1304, 'ai': 103, 'fix': 1737, 'slightly': 4058, 'shop': 3978, 'grocery': 1990, 'dick': 1200, 'provoking': 3471, 'winter': 4911, 'suit': 4307, 'advanced': 76, 'powerful': 3370, 'prefer': 3385, 'outfit': 3117, 'skate': 4034, 'automatically': 306, 'hello': 2093, 'technique': 4399, 'stroke': 4261, 'body': 478, 'split': 4169, 'muscle': 2914, 'kick': 2464, 'crook': 1023, 'worthwhile': 4950, 'stink': 4227, 'scream': 3872, 'ice': 2209, 'simplistic': 4010, 'strive': 4260, 'onto': 3071, 'enjoyment': 1486, 'low': 2666, 'dud': 1355, 'somebody': 4100, 'thats': 4446, 'sake': 3813, 'sparkle': 4143, 'seven': 3936, 'window': 4905, 'xp': 4968, 'frustration': 1841, 'crowd': 1025, 'despite': 1172, 'trick': 4586, 'yesterday': 4983, 'confidence': 898, 'smoothly': 4074, 'gentleman': 1897, 'la': 2494, 'rating': 3553, 'pity': 3291, 'delivery': 1140, 'mail': 2692, 'joy': 2435, 'rare': 3546, 'dose': 1302, 'fire': 1721, 'truck': 4597, 'pleased': 3314, 'horse': 2169, 'imagery': 2230, 'newspaper': 2973, 'afternoon': 94, 'supplier': 4319, 'nasty': 2936, 'apartment': 210, 'switch': 4356, 'outlet': 3118, 'eight': 1421, 'plug': 3318, 'device': 1185, 'hitch': 2132, 'mystical': 2925, 'relax': 3641, 'dr': 1315, 'legend': 2561, 'stranger': 4248, 'dream': 1329, 'surreal': 4338, 'symbolism': 4359, 'someday': 4101, 'peace': 3213, 'shin': 3967, 'land': 2509, 'charming': 706, 'captivate': 631, 'lj': 2629, 'smith': 4071, 'ash': 256, 'teenage': 4404, 'humor': 2193, 'paranormal': 3178, 'disaster': 1237, 'area': 230, 'darkness': 1075, 'hooked': 2156, 'protect': 3464, 'happiness': 2040, 'possibly': 3356, 'instantly': 2318, 'inspire': 2310, 'poetry': 3325, 'respond': 3704, 'personality': 3246, 'vampire': 4729, 'vision': 4786, 'trilogy': 4589, 'recognize': 3594, 'soulmate': 4128, 'unrealistic': 4682, 'slayer': 4050, 'tune': 4607, 'male': 2703, 'attraction': 290, 'witch': 4919, 'instance': 2316, 'burning': 589, 'legendary': 2562, 'publishing': 3478, 'gel': 1885, 'pen': 3224, 'ink': 2297, 'bleed': 457, 'square': 4180, 'locate': 2634, 'left': 2557, 'magazine': 2686, 'publication': 3475, 'mirror': 2842, 'glimpse': 1921, 'nation': 2938, 'shortly': 3981, 'scholar': 3856, 'compelling': 864, 'illuminate': 2225, 'precious': 3379, 'examine': 1561, 'evolution': 1554, 'conclusion': 894, 'vast': 4736, 'data': 1077, 'readable': 3562, 'reflection': 3617, 'professor': 3438, 'regret': 3628, 'wade': 4808, 'likely': 2598, 'wealth': 4850, 'awake': 314, 'invest': 2360, 'somewhat': 4107, 'useful': 4711, 'richard': 3737, 'convincing': 949, 'wide': 4890, 'perspective': 3248, 'kylie': 2493, 'bite': 445, 'subtlety': 4289, 'subtle': 4288, 'performer': 3239, 'ballad': 337, 'nightmare': 2985, 'flow': 1761, 'catchy': 661, 'chorus': 742, 'melt': 2789, 'funky': 1852, 'remixes': 3663, 'language': 2512, 'usa': 4705, 'import': 2241, 'limit': 2603, 'border': 494, 'edit': 1404, 'cut': 1051, 'arrangement': 240, 'rarity': 3548, 'tom': 4520, 'remix': 3662, 'dub': 1350, 'cord': 958, 'thomas': 4469, 'naturally': 2942, 'compel': 863, 'relate': 3635, 'rambling': 3534, 'involve': 2365, 'mindless': 2832, 'footage': 1781, 'meet': 2781, 'rent': 3671, 'kay': 2454, 'aside': 260, 'gear': 1884, 'toward': 4545, 'pack': 3146, 'interview': 2348, 'normal': 3008, 'solely': 4094, 'center': 678, 'commercial': 844, 'introduction': 2355, 'pain': 3153, 'frustrated': 1839, 'advice': 83, 'asleep': 263, 'horrific': 2166, 'warrior': 4831, 'brilliantly': 543, 'gore': 1947, 'fanatic': 1649, 'warranty': 4830, 'equipment': 1511, 'printer': 3418, 'strip': 4259, 'stretch': 4255, 'waist': 4809, 'tight': 4492, 'inch': 2258, 'earn': 1383, 'comfortable': 835, 'largely': 2519, 'out': 3112, 'slack': 4044, 'usual': 4716, 'normally': 3009, 'flimsy': 1753, 'fabric': 1625, 'advertising': 82, 'coffee': 813, 'gray': 1974, 'misleading': 2846, 'skinny': 4041, 'business': 592, 'chain': 686, 'iron': 2372, 'emphasis': 1459, 'mature': 2755, 'disturb': 1273, 'render': 3668, 'fairy': 1639, 'tale': 4372, 'grim': 1984, 'wwii': 4964, 'glove': 1926, 'appropriate': 224, 'valuable': 4726, 'alternative': 141, 'italy': 2382, 'youth': 4991, 'confusion': 907, 'credibility': 1006, 'rome': 3771, 'appreciation': 222, 'depth': 1158, 'dish': 1253, 'satisfying': 3833, 'flight': 1752, 'food': 1778, 'used': 4710, 'relatively': 3640, 'detract': 1182, 'laura': 2533, 'enhance': 1482, 'overdone': 3126, 'pun': 3482, 'sensual': 3915, 'glory': 1925, 'soul': 4125, 'preparation': 3391, 'discover': 1244, 'mexican': 2812, 'magic': 2688, 'fable': 1624, 'cook': 950, 'nude': 3025, 'chick': 723, 'lit': 2621, 'roman': 3768, 'cooking': 953, 'market': 2727, 'porn': 3344, 'desire': 1167, 'bath': 367, 'tip': 4508, 'insult': 2325, 'everywhere': 1548, 'vivid': 4794, 'jerk': 2412, 'portray': 3349, 'substance': 4283, 'sexy': 3943, 'metaphor': 2809, 'adequate': 62, 'occasionally': 3043, 'overlook': 3128, 'plane': 3296, 'suppose': 4322, 'generally': 1888, 'management': 2707, 'heap': 2075, 'report': 3682, 'bos': 500, 'financial': 1714, 'analysis': 165, 'ability': 2, 'topic': 4531, 'ordered': 3093, 'elsewhere': 1443, 'cash': 651, 'tha': 4442, 'existence': 1585, 'permanently': 3243, 'repetitive': 3677, 'repeat': 3674, 'huh': 2188, 'yeah': 4975, 'sign': 3995, 'passing': 3192, 'gon': 1939, 'na': 2928, 'lil': 2600, 'alright': 137, 'rapper': 3545, 'million': 2829, 'juvenile': 2452, 'fade': 1632, 'suck': 4294, 'bounce': 505, 'as': 254, 'da': 1057, 'solo': 4097, 'quit': 3511, 'comedian': 832, 'wayne': 4847, 'besides': 422, 'alien': 121, 'degreez': 1130, 'listening': 2619, 'snoop': 4079, 'dictionary': 1202, 'wack': 4807, 'belive': 406, 'wit': 4918, 'crap': 993, 'walk': 4812, 'pointless': 3328, 'definetely': 1120, 'strong': 4262, 'bump': 583, 'iz': 2387, 'em': 1445, 'ha': 2016, 'shot': 3982, 'logic': 2638, 'longer': 2646, 'raise': 3531, 'responsible': 3707, 'co': 806, 'worker': 4939, 'restaurant': 3710, 'french': 1822, 'quarter': 3499, 'orleans': 3103, 'delightful': 1137, 'miller': 2828, 'unlimited': 4675, 'sun': 4312, 'brave': 524, 'tim': 4499, 'dinner': 1219, 'wheel': 4874, 'lesson': 2572, 'desktop': 1169, 'thorough': 4470, 'comprehensive': 881, 'html': 2185, 'web': 4855, 'smart': 4067, 'index': 2272, 'clever': 786, 'expand': 1588, 'technology': 4401, 'advance': 75, 'intermediate': 2341, 'experienced': 1596, 'website': 4857, 'client': 790, 'expert': 1599, 'buying': 600, 'correctly': 965, 'arrival': 241, 'indicate': 2275, 'healthy': 2074, 'thoughtful': 4475, 'fiction': 1693, 'identity': 2215, 'bond': 483, 'evoke': 1553, 'provoke': 3470, 'cultural': 1035, 'australia': 299, 'complain': 867, 'portrayal': 3350, 'cartridge': 649, 'throat': 4482, 'spray': 4176, 'hurry': 2201, 'relieve': 3647, 'yo': 4985, 'sore': 4120, 'recommendation': 3598, 'mom': 2863, 'glider': 1920, 'sooner': 4115, 'bench': 415, 'metal': 2807, 'unsure': 4686, 'tighten': 4493, 'wasnt': 4836, 'bar': 346, 'sturdy': 4276, 'assemble': 267, 'movement': 2901, 'blah': 450, 'compliment': 875, 'chair': 687, 'arm': 236, 'shipment': 3970, 'heck': 2087, 'drag': 1317, 'wet': 4869, 'thinking': 4466, 'james': 2394, 'moody': 2877, 'awsome': 323, 'sample': 3818, 'ear': 1377, 'iv': 2385, 'rush': 3797, 'eerie': 1412, 'itunes': 2384, 'understanding': 4649, 'generation': 1890, 'united': 4667, 'interpret': 2345, 'jewish': 2417, 'worthy': 4951, 'rabbi': 3516, 'element': 1434, 'truth': 4602, 'gospel': 1950, 'socialism': 4087, 'economics': 1399, 'broad': 548, 'variety': 4733, 'political': 3332, 'marriage': 2731, 'marry': 2733, 'welcome': 4865, 'spouse': 4175, 'consist': 914, 'excessive': 1573, 'argument': 234, 'watchable': 4840, 'married': 2732, 'cat': 657, 'angry': 175, 'yell': 4977, 'length': 2566, 'endure': 1471, 'test': 4436, 'discussion': 1247, 'discuss': 1246, 'outside': 3122, 'literature': 2624, 'chop': 738, 'answer': 190, 'excuse': 1579, 'wolverine': 4927, 'cheer': 715, 'bind': 436, 'bass': 363, 'attitude': 287, 'singing': 4019, 'drum': 1344, 'unique': 4665, 'suggestion': 4305, 'acoustic': 37, 'accord': 27, 'knowledge': 2486, 'duo': 1365, 'instrumental': 2324, 'road': 3756, 'mini': 2834, 'pedal': 3218, 'cheaply': 712, 'terrific': 4429, 'organ': 3095, 'mess': 2804, 'setting': 3933, 'burnt': 590, 'rubber': 3787, 'service': 3930, 'pace': 3144, 'rivet': 3755, 'bookstore': 491, 'gothic': 1952, 'curse': 1045, 'supposedly': 4323, 'impressive': 2249, 'feehan': 1679, 'warn': 4825, 'christine': 747, 'engine': 1476, 'nicoletta': 2981, 'village': 4772, 'exercise': 1583, 'select': 3904, 'mysterious': 2923, 'frighten': 1833, 'communicate': 847, 'similarity': 4005, 'eager': 1375, 'presence': 3394, 'unlike': 4673, 'temper': 4412, 'passion': 3193, 'empathy': 1457, 'potential': 3363, 'develop': 1183, 'spark': 4142, 'action': 42, 'suspenseful': 4345, 'believable': 403, 'pound': 3365, 'emma': 1452, 'holly': 2141, 'reach': 3559, 'dimensional': 1217, 'advantage': 77, 'success': 4291, 'bound': 506, 'weird': 4864, 'lively': 2627, 'adore': 72, 'strongly': 4263, 'tea': 4390, 'severely': 3939, 'camcorder': 609, 'usb': 4708, 'overseas': 3134, 'choppy': 740, 'recently': 3588, 'driver': 1340, 'protection': 3465, 'accurate': 30, 'blur': 472, 'barrel': 353, 'distortion': 1271, 'piano': 3269, 'homework': 2148, 'common': 846, 'teacher': 4392, 'lid': 2583, 'accidentally': 22, 'upon': 4696, 'alternate': 140, 'adjust': 64, 'limited': 2604, 'cruel': 1028, 'unusual': 4688, 'patricia': 3204, 'cornwell': 961, 'boyfriend': 514, 'seat': 3888, 'collapse': 818, 'stick': 4220, 'thriller': 4481, 'evil': 1551, 'holder': 2137, 'nazi': 2945, 'criminal': 1012, 'dump': 1364, 'scarpetta': 3848, 'summary': 4310, 'virtually': 4782, 'paramount': 3176, 'harris': 2054, 'becomes': 390, 'trite': 4594, 'frankly': 1816, 'turner': 4610, 'grip': 1987, 'unable': 4634, 'lost': 2656, 'cassette': 652, 'envelope': 1502, 'prevent': 3404, 'police': 3329, 'row': 3785, 'execute': 1580, 'current': 1043, 'particularly': 3185, 'niece': 2982, 'installment': 2315, 'potter': 3364, 'field': 1696, 'mastery': 2747, 'science': 3861, 'muddle': 2908, 'electric': 1428, 'commit': 845, 'redeem': 3606, 'latter': 2527, 'villain': 4773, 'flaw': 1744, 'bed': 392, 'hardcover': 2045, 'prime': 3413, 'shallow': 3952, 'contain': 925, 'widely': 4891, 'incomplete': 2262, 'binding': 437, 'documentation': 1286, 'unclear': 4641, 'adam': 50, 'partner': 3186, 'earth': 1386, 'previously': 3407, 'entertaining': 1494, 'spoil': 4170, 'degrade': 1128, 'zero': 4995, 'nope': 3007, 'studio': 4268, 'wake': 4811, 'sandler': 3823, 'viewer': 4765, 'climax': 792, 'lackluster': 2503, 'entirely': 1499, 'happend': 2036, 'hill': 2122, 'engaging': 1475, 'comic': 839, 'illness': 2224, 'destroy': 1174, 'lifestyle': 2586, 'necessarily': 2951, 'doesnt': 1287, 'george': 1899, 'experimental': 1598, 'drug': 1343, 'ira': 2369, 'hire': 2125, 'patch': 3199, 'suddenly': 4298, 'immature': 2234, 'lame': 2508, 'sexual': 3942, 'nudity': 3026, 'circle': 760, 'reputation': 3687, 'dramatic': 1321, 'cold': 815, 'mainstream': 2695, 'press': 3399, 'downhill': 1309, 'jim': 2419, 'moon': 2878, 'drift': 1333, 'marketing': 2728, 'theater': 4447, 'chuckle': 752, 'making': 2702, 'unnecessary': 4677, 'chemistry': 719, 'conversation': 945, 'acceptable': 17, 'anger': 173, 'hilarious': 2120, 'humour': 2195, 'artsy': 252, 'demand': 1144, 'loser': 2654, 'bird': 440, 'titanic': 4513, 'drawn': 1326, 'profanity': 3436, 'beneath': 417, 'fair': 1637, 'share': 3956, 'appeal': 214, 'vulgar': 4806, 'offensive': 3054, 'likeable': 2596, 'lower': 2667, 'swear': 4349, 'grass': 1972, 'altogether': 144, 'tragic': 4557, 'scott': 3869, 'wont': 4932, 'collect': 820, 'depress': 1154, 'tackle': 4367, 'moron': 2884, 'smile': 4070, 'mel': 2785, 'there': 4455, 'hearing': 2078, 'isnt': 2379, 'win': 4903, 'spent': 4159, 'excess': 1572, 'inspirational': 2309, 'anecdote': 171, 'north': 3010, 'thirty': 4468, 'phrase': 3265, 'stitch': 4229, 'vital': 4792, 'artwork': 253, 'feast': 1671, 'dynamic': 1373, 'accompany': 24, 'wan': 4816, 'exotic': 1587, 'whimsical': 4879, 'lovely': 2664, 'host': 2172, 'protagonist': 3463, 'narrator': 2934, 'greek': 1980, 'lengthy': 2567, 'richly': 3738, 'diverse': 1276, 'seek': 3899, 'preserve': 3397, 'tradition': 4554, 'interact': 2335, 'social': 4086, 'environment': 1503, 'delve': 1143, 'sin': 4013, 'whenever': 4875, 'habit': 2017, 'judge': 2438, 'forever': 1786, 'account': 28, 'pagan': 3151, 'religion': 3648, 'stereotypical': 4216, 'suitable': 4308, 'disrespect': 1263, 'witness': 4923, 'jean': 2407, 'president': 3398, 'kennedy': 2459, 'article': 247, 'lady': 2504, 'jfk': 2418, 'http': 2186, 'location': 2635, 'conspiracy': 917, 'government': 1953, 'statement': 4203, 'tap': 4380, 'nonsense': 3005, 'physic': 3266, 'department': 1150, 'mad': 2682, 'ramblings': 3535, 'sum': 4309, 'physically': 3268, 'defy': 1127, 'debunk': 1096, 'furthermore': 1854, 'mixed': 2854, 'insane': 2302, 'evidence': 1549, 'pas': 3189, 'sword': 4357, 'december': 1100, 'recieved': 3591, 'absolutly': 8, 'confident': 899, 'stainless': 4189, 'steel': 4210, 'buddy': 568, 'symbol': 4358, 'blade': 449, 'adaptation': 52, 'gibberish': 1906, 'convert': 946, 'laundry': 2532, 'curve': 1047, 'bought': 504, 'update': 4692, 'customer': 1050, 'gap': 1872, 'heaven': 2084, 'scent': 3853, 'crush': 1029, 'recommended': 3599, 'unsatisfying': 4684, 'nicely': 2977, 'slap': 4046, 'method': 2811, 'possibility': 3354, 'gault': 1880, 'uncle': 4640, 'investigation': 2361, 'york': 4987, 'affair': 87, 'honesty': 2153, 'adjective': 63, 'apparent': 212, 'suffer': 4300, 'tripe': 4592, 'implausible': 2239, 'understandable': 4648, 'brain': 519, 'sixth': 4030, 'labor': 2498, 'bizarre': 447, 'gut': 2012, 'factual': 1631, 'integrity': 2326, 'pale': 3161, 'ignorant': 2219, 'regard': 3623, 'profile': 3439, 'thumb': 4486, 'pit': 3287, 'meaningless': 2768, 'sympathetic': 4360, 'conflict': 901, 'pile': 3278, 'remainder': 3653, 'table': 4366, 'disturbing': 1274, 'inconsistent': 2264, 'scary': 3849, 'emotionally': 1455, 'contrive': 939, 'temple': 4414, 'intelligence': 2328, 'medical': 2776, 'virginia': 4781, 'whose': 4886, 'frozen': 1837, 'central': 679, 'park': 3181, 'terrify': 4430, 'accuracy': 29, 'lacking': 2502, 'storyteller': 4241, 'inevitable': 2281, 'kindle': 2471, 'fireplace': 1724, 'yank': 4971, 'doc': 1282, 'plausible': 3303, 'involved': 2366, 'genius': 1894, 'engineer': 1477, 'stilted': 4225, 'oil': 3062, 'hollow': 2140, 'ring': 3747, 'churn': 755, 'profit': 3440, 'terror': 4432, 'killing': 2468, 'bluegrass': 470, 'prove': 3467, 'progress': 3445, 'diagnose': 1192, 'heal': 2072, 'thousand': 4476, 'grant': 1969, 'retain': 3717, 'noisy': 2998, 'vibration': 4758, 'massager': 2742, 'objective': 3033, 'finding': 1716, 'grasp': 1971, 'exposition': 1608, 'principle': 3416, 'exciting': 1578, 'desert': 1164, 'afraid': 91, 'hey': 2108, 'bitter': 446, 'friday': 1828, 'knowledgeable': 2487, 'bank': 345, 'civilization': 767, 'ramble': 3533, 'hunter': 2199, 'port': 3345, 'ark': 235, 'giant': 1905, 'map': 2719, 'browse': 555, 'disappear': 1232, 'superficial': 4315, 'scientific': 3862, 'lincoln': 2605, 'perception': 3233, 'belongs': 411, 'hazlitt': 2065, 'understood': 4650, 'economic': 1398, 'intervention': 2347, 'working': 4940, 'vote': 4804, 'economy': 1400, 'capitalism': 628, 'merit': 2803, 'significantly': 3999, 'ideal': 2212, 'dismal': 1258, 'serve': 3929, 'third': 4467, 'swing': 4355, 'conservative': 912, 'rant': 3542, 'relevant': 3644, 'crisis': 1014, 'politician': 3333, 'classroom': 778, 'failure': 1636, 'scam': 3840, 'definition': 1123, 'outdated': 3114, 'reflect': 3616, 'moreover': 2881, 'settle': 3934, 'choir': 736, 'broken': 552, 'mental': 2795, 'pro': 3426, 'damn': 1065, 'benefit': 418, 'cave': 667, 'union': 4664, 'amazingly': 151, 'university': 4670, 'chicago': 722, 'crazy': 999, 'march': 2721, 'fundamental': 1849, 'county': 978, 'overwhelming': 3138, 'majority': 2698, 'cite': 763, 'education': 1409, 'growth': 1996, 'revolutionary': 3728, 'directly': 1226, 'plague': 3293, 'foundation': 1803, 'von': 4802, 'credit': 1007, 'depression': 1157, 'elementary': 1435, 'fellow': 1684, 'loss': 2655, 'freedom': 1820, 'fancy': 1650, 'consequence': 911, 'tremendous': 4581, 'tax': 4386, 'expense': 1593, 'necessary': 2952, 'measure': 2770, 'aka': 111, 'enemy': 1472, 'narration': 2932, 'tedious': 4402, 'donate': 1297, 'critique': 1021, 'popular': 3341, 'agenda': 97, 'rarely': 3547, 'omit': 3068, 'contrary': 935, 'grain': 1959, 'salt': 3816, 'health': 2073, 'dangerous': 1070, 'myth': 2926, 'context': 930, 'corporate': 963, 'trade': 4553, 'anti': 195, 'preach': 3377, 'net': 2965, 'flesh': 1749, 'et': 1529, 'hammer': 2028, 'blind': 461, 'utopian': 4719, 'anytime': 203, 'rehash': 3631, 'worship': 4946, 'tout': 4544, 'enlighten': 1487, 'sanity': 3825, 'casual': 656, 'spring': 4178, 'premise': 3389, 'lifetime': 2587, 'prophetic': 3460, 'surprisingly': 4337, 'paul': 3208, 'laughable': 2529, 'skim': 4039, 'mislead': 2845, 'faulty': 1666, 'apparently': 213, 'promote': 3450, 'duty': 1370, 'equation': 1510, 'analyze': 166, 'narrow': 2935, 'introductory': 2356, 'importantly': 2244, 'recycle': 3604, 'pepper': 3229, 'concerned': 890, 'secretly': 3893, 'instrument': 2323, 'velvet': 4744, 'techno': 4400, 'electronica': 1431, 'tire': 4509, 'ho': 2133, 'dumb': 1361, 'im': 2228, 'stellar': 4212, 'invite': 2364, 'vary': 4735, 'musical': 2917, 'animated': 177, 'punch': 3483, 'station': 4204, 'transport': 4568, 'definitly': 1125, 'tripod': 4593, 'bag': 334, 'circuit': 761, 'anderson': 169, 'poverty': 3367, 'sweden': 4351, 'sent': 3916, 'journey': 2434, 'sorrow': 4122, 'daniel': 1071, 'hidden': 2110, 'constant': 918, 'nineteen': 2989, 'contribution': 938, 'minority': 2838, 'incomprehensible': 2263, 'anthology': 193, 'christian': 745, 'torso': 4533, 'cincher': 756, 'boning': 485, 'chest': 720, 'wire': 4913, 'bra': 516, 'whereas': 4876, 'custom': 1049, 'cloth': 800, 'squeem': 4181, 'shapewear': 3955, 'bone': 484, 'butt': 595, 'hardly': 2047, 'firm': 1726, 'vintage': 4775, 'expensive': 1594, 'clothes': 801, 'liner': 2607, 'comfortably': 836, 'layer': 2536, 'measurement': 2771, 'posture': 3361, 'associate': 271, 'slim': 4059, 'reduce': 3610, 'clothing': 802, 'wedding': 4858, 'opt': 3087, 'bust': 593, 'tighter': 4494, 'def': 1112, 'boob': 487, 'dd': 1085, 'everyday': 1544, 'belly': 408, 'pregnancy': 3386, 'sick': 3991, 'literally': 2622, 'desk': 1168, 'pleasant': 3311, 'bruise': 559, 'flexible': 1750, 'unbearable': 4637, 'bulge': 579, 'spare': 4141, 'fold': 1771, 'trim': 4590, 'shirt': 3973, 'lift': 2588, 'upset': 4699, 'miracle': 2841, 'squeeze': 4182, 'fraction': 1807, 'lb': 2539, 'tummy': 4606, 'thou': 4472, 'tank': 4379, 'sweat': 4350, 'tall': 4376, 'mid': 2816, 'inner': 2298, 'cotton': 969, 'pure': 3488, 'occasion': 3041, 'birth': 441, 'specifically': 4152, 'bulky': 580, 'hideous': 2112, 'sizing': 4033, 'speed': 4156, 'surgery': 4332, 'stomach': 4232, 'theres': 4457, 'underneath': 4645, 'breathing': 532, 'bell': 407, 'snug': 4081, 'concentrate': 887, 'breast': 529, 'believer': 405, 'pregnant': 3387, 'pinch': 3283, 'ur': 4701, 'downside': 1312, 'portion': 3347, 'sew': 3940, 'satisfied': 3831, 'sock': 4089, 'bend': 416, 'upper': 4697, 'defeat': 1113, 'increase': 2267, 'bent': 419, 'repair': 3673, 'unreal': 4681, 'gym': 2014, 'diminish': 1218, 'visible': 4785, 'pink': 3284, 'spine': 4164, 'severe': 3938, 'injury': 2296, 'vanity': 4731, 'surpass': 4333, 'suprise': 4324, 'merchandise': 2801, 'absorb': 9, 'abandon': 1, 'torture': 4534, 'asap': 255, 'instant': 2317, 'ease': 1388, 'loop': 2648, 'seam': 3884, 'snap': 4076, 'eventually': 1539, 'visually': 4790, 'divide': 1278, 'ouch': 3110, 'daily': 1060, 'rod': 3763, 'painfully': 3155, 'ultimately': 4630, 'grandmother': 1967, 'encourage': 1467, 'regain': 3622, 'trap': 4569, 'diet': 1206, 'anticipate': 196, 'fitting': 1735, 'lousy': 2661, 'near': 2948, 'fly': 1766, 'steam': 4209, 'badly': 333, 'stab': 4183, 'havent': 2063, 'hence': 2098, 'reminder': 3660, 'occur': 3044, 'slight': 4057, 'stamp': 4192, 'swell': 4354, 'disease': 1249, 'terribly': 4428, 'gross': 1992, 'rear': 3575, 'sometime': 4105, 'aircraft': 108, 'marie': 2724, 'doll': 1292, 'owe': 3139, 'seemingly': 3901, 'permanent': 3242, 'china': 730, 'german': 1901, 'jimmy': 2420, 'ponder': 3335, 'nine': 2988, 'unwatchable': 4689, 'cheese': 716, 'scholarly': 3857, 'mold': 2862, 'distinct': 1270, 'mass': 2740, 'gold': 1936, 'pray': 3376, 'overcome': 3125, 'vinyl': 4776, 'rhapsody': 3732, 'caan': 603, 'higgins': 2113, 'danger': 1069, 'publisher': 3477, 'sean': 3885, 'justice': 2450, 'pickup': 3272, 'competition': 865, 'british': 546, 'legal': 2560, 'entertainment': 1495, 'slog': 4061, 'dillon': 1215, 'dozen': 1314, 'para': 3171, 'expose': 1607, 'promising': 3449, 'smoke': 4072, 'generous': 1892, 'sequel': 3922, 'guilty': 2006, 'status': 4206, 'oops': 3073, 'aspire': 265, 'strangely': 4247, 'editor': 1407, 'dialog': 1194, 'unbelievably': 4639, 'kate': 2453, 'reaction': 3560, 'rough': 3780, 'curiosity': 1041, 'tension': 4423, 'executive': 1582, 'cliche': 787, 'guard': 1999, 'agent': 98, 'target': 4382, 'shoot': 3977, 'timing': 4505, 'silent': 4001, 'jefferson': 2409, 'tired': 4510, 'extension': 1614, 'meeting': 2782, 'strain': 4244, 'spy': 4179, 'board': 475, 'cartoon': 648, 'heritage': 2102, 'pose': 3351, 'jacket': 2390, 'dust': 1369, 'harry': 2055, 'screenplay': 3874, 'shred': 3987, 'shall': 3951, 'uninspired': 4662, 'deadline': 1088, 'critical': 1018, 'eagle': 1376, 'sudden': 4297, 'saga': 3811, 'bernstein': 421, 'precede': 3378, 'nerve': 2963, 'irish': 2371, 'hack': 2018, 'enormous': 1488, 'stinker': 4228, 'schwartz': 3859, 'los': 2652, 'rabbit': 3517, 'ballroom': 339, 'vega': 4738, 'duke': 1359, 'shine': 3968, 'destine': 1173, 'greatness': 1978, 'herb': 2101, 'precise': 3380, 'association': 272, 'plant': 3299, 'stream': 4251, 'scanner': 3842, 'vista': 4788, 'scan': 3841, 'firmware': 1727, 'jane': 2395, 'universe': 4669, 'scarlett': 3847, 'scarlet': 3846, 'hawthorne': 2064, 'underlying': 4644, 'huxley': 2205, 'vacation': 4722, 'puritan': 3490, 'confess': 897, 'physical': 3267, 'reccomend': 3582, 'auto': 304, 'dolby': 1291, 'mundane': 2912, 'allusion': 128, 'hester': 2107, 'needle': 2955, 'us': 4704, 'convey': 947, 'overrate': 3132, 'dickens': 1201, 'boredom': 497, 'fahrenheit': 1633, 'footnote': 1782, 'nonetheless': 3002, 'gripping': 1988, 'neat': 2950, 'essence': 1522, 'breathtaking': 533, 'navigate': 2944, 'ebook': 1395, 'nathaniel': 2937, 'strength': 4253, 'weakness': 4849, 'cop': 955, 'rigid': 3746, 'psychological': 3472, 'divorce': 1279, 'adultery': 74, 'punishment': 3484, 'dover': 1308, 'reprint': 3686, 'confirm': 900, 'pretentious': 3402, 'era': 1513, 'mildly': 2823, 'hi': 2109, 'highschool': 2117, 'assignment': 270, 'dread': 1327, 'captivating': 632, 'worse': 4945, 'aunt': 297, 'ugh': 4626, 'honor': 2154, 'wordy': 4936, 'dirt': 1228, 'empathize': 1456, 'tragedy': 4556, 'effectively': 1415, 'reccommend': 3583, 'mainly': 2694, 'historically': 2129, 'pill': 3279, 'timely': 4503, 'cliff': 791, 'robot': 3759, 'wasted': 4838, 'indeed': 2270, 'beg': 395, 'unfamiliar': 4654, 'dislike': 1257, 'empty': 1462, 'worst': 4947, 'overly': 3129, 'humanity': 2191, 'filler': 1706, 'cynical': 1056, 'vice': 4760, 'awhile': 321, 'assign': 269, 'cliched': 788, 'masterful': 2745, 'literary': 2623, 'rule': 3792, 'shell': 3962, 'belong': 410, 'electronic': 1430, 'formatting': 1791, 'requirement': 3690, 'cheat': 713, 'irritate': 2376, 'spirit': 4165, 'paperback': 3168, 'engross': 1481, 'flawless': 1745, 'guilt': 2005, 'irony': 2374, 'exceptional': 1570, 'fee': 1674, 'yawn': 4973, 'childish': 728, 'classify': 777, 'shadow': 3946, 'headache': 2069, 'jeff': 2408, 'ap': 207, 'hint': 2123, 'quote': 3514, 'significant': 3998, 'inability': 2252, 'revelation': 3721, 'fist': 1732, 'court': 982, 'unlikely': 4674, 'spider': 4161, 'exceptionally': 1571, 'surprising': 4336, 'uninteresting': 4663, 'sucker': 4295, 'forth': 1795, 'sophomore': 4119, 'degree': 1129, 'grief': 1983, 'exam': 1559, 'afterwards': 95, 'reject': 3634, 'exposure': 1609, 'versus': 4752, 'refreshing': 3619, 'construct': 920, 'noble': 2994, 'applicable': 218, 'ought': 3111, 'peel': 3220, 'wander': 4817, 'redemption': 3608, 'teenager': 4405, 'font': 1777, 'happens': 2038, 'victorian': 4762, 'sue': 4299, 'ignorance': 2218, 'okay': 3064, 'sux': 4347, 'quiz': 3513, 'slowly': 4065, 'lightly': 2591, 'lock': 2636, 'attic': 286, 'mentally': 2797, 'sandra': 3824, 'peice': 3222, 'tempt': 4417, 'therapy': 4454, 'twisted': 4619, 'cure': 1039, 'insomnia': 2307, 'ridiculously': 3743, 'bloody': 466, 'junior': 2448, 'patient': 3203, 'rank': 3541, 'readily': 3564, 'october': 3046, 'luck': 2669, 'meaningful': 2767, 'ashamed': 257, 'harsh': 2056, 'sleeping': 4053, 'lap': 2514, 'stress': 4254, 'thier': 4461, 'taught': 4385, 'orwell': 3105, 'bradbury': 517, 'attack': 282, 'dare': 1072, 'oppression': 3085, 'comparable': 857, 'superior': 4316, 'arthur': 246, 'visual': 4789, 'aid': 104, 'moore': 2879, 'poetic': 3324, 'cram': 991, 'extend': 1612, 'renew': 3670, 'pride': 3410, 'favor': 1667, 'dreary': 1330, 'dreadful': 1328, 'aim': 105, 'miserably': 2843, 'numerous': 3028, 'composition': 879, 'determine': 1181, 'suffers': 4301, 'bush': 591, 'prison': 3421, 'plumeria': 3319, 'seattle': 3889, 'rain': 3529, 'proof': 3453, 'suprised': 4325, 'senior': 3910, 'dual': 1349, 'meaning': 2766, 'tomato': 4521, 'anthony': 194, 'wilbur': 4896, 'ft': 1842, 'listing': 2620, 'substandard': 4284, 'cent': 677, 'suction': 4296, 'cleaning': 783, 'feed': 1675, 'feeding': 1678, 'compartment': 860, 'knife': 2479, 'tray': 4575, 'se': 3881, 'asia': 258, 'lao': 2513, 'august': 296, 'australian': 300, 'sloppy': 4062, 'functional': 1848, 'yep': 4980, 'meter': 2810, 'probe': 3428, 'convince': 948, 'atrocious': 280, 'wouldnt': 4953, 'kiss': 2475, 'jerry': 2413, 'lewis': 2577, 'depressing': 1156, 'holiday': 2139, 'cancel': 617, 'dissapointment': 1266, 'receipt': 3584, 'rude': 3789, 'discount': 1242, 'rack': 3521, 'pretend': 3401, 'bomb': 482, 'flop': 1758, 'simpson': 4012, 'drunk': 1346, 'whitney': 4883, 'allen': 125, 'crack': 989, 'santa': 3827, 'teeth': 4406, 'youngster': 4990, 'billy': 433, 'remotely': 3665, 'annoying': 188, 'hairy': 2022, 'diehard': 1205, 'downright': 1311, 'stargate': 4199, 'signal': 3996, 'gas': 1879, 'pulse': 3480, 'flute': 1765, 'sax': 3837, 'storm': 4237, 'jones': 2431, 'quartet': 3500, 'william': 4899, 'dave': 1081, 'inappropriate': 2256, 'shut': 3989, 'duck': 1354, 'rail': 3528, 'yer': 4981, 'flag': 1738, 'reasonable': 3577, 'elvis': 1444, 'deborah': 1095, 'drummer': 1345, 'le': 2541, 'king': 2472, 'diane': 1198, 'height': 2089, 'una': 4633, 'reed': 3612, 'cinema': 757, 'redeeming': 3607, 'chase': 708, 'erotic': 1515, 'listenable': 2617, 'motion': 2890, 'properly': 3457, 'expire': 1600, 'assembly': 268, 'ebay': 1394, 'separately': 3920, 'shade': 3945, 'fortune': 1798, 'hardware': 2048, 'knob': 2482, 'grind': 1985, 'crank': 992, 'grinder': 1986, 'operate': 3078, 'shoddy': 3975, 'brush': 560, 'jensen': 2411, 'pitch': 3288, 'accessible': 19, 'psychology': 3473, 'industry': 2280, 'intellectual': 2327, 'influential': 2287, 'teaching': 4393, 'fortunate': 1796, 'phd': 3253, 'document': 1284, 'fuzzy': 1858, 'percent': 3232, 'unacceptable': 4635, 'unfortunate': 4657, 'fluff': 1762, 'breathe': 531, 'affect': 88, 'concern': 889, 'academy': 14, 'announce': 185, 'oscar': 3107, 'bible': 429, 'fifteen': 1697, 'journalist': 2433, 'minimal': 2835, 'hype': 2206, 'definite': 1121, 'metallica': 2808, 'garage': 1873, 'successfully': 4293, 'twenty': 4615, 'diagram': 1193, 'instructor': 2322, 'scale': 3839, 'violet': 4779, 'purple': 3491, 'promptly': 3452, 'training': 4561, 'nervous': 2964, 'photography': 3264, 'louis': 2659, 'groove': 1991, 'adapt': 51, 'rhyme': 3733, 'cube': 1033, 'gadget': 1862, 'refill': 3615, 'lip': 2611, 'lunchbox': 2674, 'stain': 4188, 'crocodile': 1022, 'lunch': 2673, 'drink': 1335, 'soup': 4132, 'breath': 530, 'ban': 340, 'weave': 4854, 'temptation': 4418, 'closer': 798, 'perfection': 3235, 'evolve': 1555, 'descent': 1159, 'sp': 4137, 'bum': 582, 'mediocre': 2779, 'mar': 2720, 'johnson': 2427, 'bland': 452, 'bash': 357, 'proud': 3466, 'biological': 439, 'gloria': 1923, 'wilson': 4902, 'lp': 2668, 'dated': 1079, 'howard': 2181, 'anne': 182, 'epic': 1505, 'slick': 4055, 'annie': 183, 'mtv': 2906, 'ann': 181, 'milk': 2826, 'career': 638, 'wolf': 4926, 'rockin': 3762, 'sorely': 4121, 'slave': 4048, 'mistress': 2852, 'truely': 4599, 'corny': 962, 'durability': 1367, 'magnificent': 2691, 'chopin': 739, 'complexity': 872, 'sonic': 4112, 'progressive': 3446, 'rhythm': 3734, 'spectrum': 4154, 'velcro': 4743, 'walker': 4813, 'collins': 824, 'sam': 3817, 'charlie': 703, 'hall': 2025, 'rage': 3526, 'jazzy': 2406, 'peanut': 3215, 'scripture': 3878, 'christ': 744, 'hd': 2066, 'sync': 4362, 'mouth': 2899, 'warner': 4826, 'whim': 4878, 'eve': 1535, 'quest': 3503, 'gang': 1871, 'broadcast': 549, 'blu': 468, 'ray': 3558, 'capacity': 626, 'appal': 211, 'retail': 3715, 'speaking': 4146, 'babe': 325, 'wise': 4916, 'eternal': 1531, 'charles': 702, 'crew': 1010, 'jesus': 2414, 'bless': 459, 'withstand': 4922, 'passage': 3191, 'crisp': 1015, 'deluxe': 1142, 'gentle': 1896, 'speech': 4155, 'uneven': 4652, 'thankfully': 4444, 'spec': 4148, 'min': 2830, 'couch': 970, 'soooo': 4117, 'widescreen': 4892, 'clay': 781, 'creation': 1002, 'upside': 4700, 'connect': 908, 'fifth': 1698, 'afford': 89, 'mattress': 2754, 'powerbook': 3369, 'adapter': 53, 'amp': 160, 'ibook': 2208, 'macally': 2679, 'charging': 701, 'ac': 12, 'apple': 217, 'cycle': 1055, 'fiddle': 1695, 'connection': 909, 'indicator': 2276, 'better': 425, 'fluke': 1763, 'generate': 1889, 'bargain': 351, 'brick': 538, 'handy': 2033, 'adaptor': 54, 'connector': 910, 'resume': 3714, 'sufficient': 4302, 'continuously': 933, 'drawback': 1324, 'aluminum': 145, 'operation': 3080, 'buzz': 601, 'await': 313, 'request': 3688, 'initial': 2294, 'quiet': 3508, 'questionable': 3505, 'orange': 3090, 'airport': 110, 'weigh': 4862, 'affordable': 90, 'glance': 1917, 'electrical': 1429, 'budget': 569, 'sacrifice': 3805, 'th': 4441, 'following': 1774, 'transformer': 4564, 'idiot': 2216, 'satisfaction': 3830, 'backpack': 330, 'outer': 3116, 'suspect': 4343, 'disconnect': 1240, 'hassle': 2057, 'obtain': 3038, 'notify': 3018, 'resolve': 3699, 'usage': 4707, 'lemon': 2563, 'candy': 619, 'added': 56, 'oem': 3052, 'justify': 2451, 'lighting': 2590, 'unstable': 4685, 'pictured': 3275, 'temporary': 4416, 'compact': 853, 'missing': 2849, 'puppy': 3486, 'link': 2608, 'overprice': 3131, 'whine': 4880, 'representative': 3685, 'shaft': 3947, 'odds': 3048, 'binchy': 435, 'fuss': 1855, 'discourage': 1243, 'silver': 4003, 'poignant': 3326, 'observation': 3036, 'anniversary': 184, 'teller': 4409, 'marvelous': 2737, 'nephew': 2962, 'artistic': 251, 'whip': 4881, 'busy': 594, 'improvement': 2251, 'jumping': 2445, 'toddler': 4516, 'pin': 3282, 'bead': 379, 'sand': 3821, 'scifi': 3864, 'spiritual': 4166, 'dude': 1356, 'bathroom': 368, 'booklet': 489, 'il': 2222, 'tempo': 4415, 'del': 1131, 'empire': 1461, 'dire': 1222, 'mike': 2821, 'un': 4632, 'west': 4867, 'pig': 3277, 'wine': 4907, 'por': 3343, 'en': 1463, 'ella': 1440, 'excelente': 1564, 'ma': 2677, 'brian': 537, 'rust': 3800, 'manufacture': 2716, 'poem': 3322, 'verse': 4750, 'leader': 2543, 'cannon': 620, 'expedition': 1592, 'river': 3754, 'fort': 1794, 'gun': 2011, 'trek': 4580, 'install': 2313, 'mount': 2896, 'resonate': 3700, 'mechanical': 2773, 'core': 959, 'evident': 1550, 'traveler': 4573, 'scenery': 3852, 'odysseus': 3050, 'ulysses': 4631, 'infrared': 2292, 'vibrate': 4757, 'flashlight': 1741, 'bulb': 578, 'heating': 2083, 'lennon': 2568, 'occasional': 3042, 'eddie': 1402, 'latin': 2526, 'funk': 1851, 'texture': 4440, 'testament': 4437, 'circumstance': 762, 'aussie': 298, 'shower': 3986, 'creep': 1008, 'writen': 4958, 'technically': 4398, 'photograph': 3263, 'reunion': 3719, 'overdue': 3127, 'webb': 4856, 'dimension': 1216, 'glen': 1919, 'campbell': 614, 'moving': 2903, 'upbeat': 4690, 'dwarf': 1372, 'interpretation': 2346, 'stunning': 4273, 'organize': 3098, 'amish': 156, 'therapist': 4453, 'translate': 4566, 'confused': 905, 'platform': 3302, 'ego': 1418, 'commentary': 843, 'accomplishment': 26, 'enthral': 1496, 'disgrace': 1250, 'remark': 3655, 'humble': 2192, 'cooker': 952, 'uplifting': 4695, 'importance': 2242, 'simplicity': 4009, 'quilt': 3509, 'sentiment': 3918, 'insightful': 2306, 'east': 1390, 'marine': 2725, 'closely': 797, 'leak': 2547, 'meal': 2764, 'locally': 2633, 'output': 3120, 'magnet': 2690, 'celtic': 673, 'wipe': 4912, 'chore': 741, 'tried': 4587, 'bunny': 585, 'shaker': 3949, 'detect': 1178, 'chunk': 753, 'invasion': 2358, 'coherent': 814, 'burmese': 587, 'breed': 534, 'meat': 2772, 'chicken': 724, 'raw': 3557, 'characteristic': 697, 'quantity': 3498, 'gorgeous': 1948, 'trace': 4551, 'enable': 1464, 'napoleon': 2931, 'biography': 438, 'differ': 1207, 'emperor': 1458, 'praise': 3374, 'criticize': 1020, 'memoir': 2791, 'lab': 2495, 'sinister': 4022, 'underground': 4643, 'haha': 2019, 'ghost': 1904, 'setup': 3935, 'housing': 2179, 'nonsensical': 3006, 'rural': 3796, 'running': 3795, 'urban': 4702, 'spirituality': 4167, 'fifty': 1699, 'catherine': 663, 'comfort': 834, 'cream': 1000, 'haunt': 2061, 'revisit': 3726, 'reissue': 3633, 'boys': 515, 'dishwasher': 1254, 'headset': 2071, 'bluetooth': 471, 'motorola': 2895, 'wannabe': 4818, 'prepared': 3393, 'clip': 794, 'harmony': 2052, 'songwriter': 4111, 'camp': 612, 'taylor': 4387, 'boat': 476, 'pocket': 3321, 'arrange': 239, 'chill': 729, 'thrash': 4477, 'excellence': 1566, 'northern': 3011, 'dome': 1295, 'xmas': 4967, 'diameter': 1196, 'google': 1945, 'prep': 3390, 'density': 1148, 'ensure': 1491, 'lecture': 2555, 'brazil': 525, 'scope': 3866, 'companion': 855, 'experiment': 1597, 'tilt': 4498, 'adjustment': 66, 'opener': 3075, 'drill': 1334, 'paste': 3196, 'dolly': 1294, 'parton': 3187, 'sustain': 4346, 'delivers': 1139, 'sugar': 4303, 'independent': 2271, 'lend': 2564, 'unforgettable': 4656, 'fond': 1775, 'soar': 4084, 'lhasa': 2578, 'sings': 4021, 'wrench': 4956, 'kurt': 2492, 'intimate': 2350, 'diversity': 1277, 'originality': 3101, 'tango': 4378, 'ala': 113, 'subsequent': 4282, 'musicianship': 2919, 'modest': 2861, 'abroad': 4, 'spooky': 4172, 'knight': 2480, 'phillips': 3258, 'accurately': 31, 'audiobook': 294, 'accent': 15, 'climb': 793, 'elizabeth': 1439, 'whats': 4872, 'sir': 4024, 'simon': 4006, 'laughter': 2530, 'mankind': 2711, 'bubble': 563, 'holy': 2145, 'casting': 654, 'standout': 4195, 'chat': 709, 'bolt': 481, 'route': 3782, 'india': 2273, 'sport': 4173, 'headphone': 2070, 'eidos': 1420, 'gameplay': 1868, 'tomb': 4522, 'raider': 3527, 'delay': 1132, 'lara': 2517, 'horrid': 2165, 'stall': 4191, 'blank': 453, 'turkey': 4608, 'restart': 3709, 'unplayable': 4678, 'controller': 941, 'sensitive': 3913, 'fence': 1690, 'news': 2972, 'cutting': 1053, 'preview': 3405, 'franchise': 1811, 'depressed': 1155, 'playable': 3305, 'sticker': 4221, 'unusable': 4687, 'glitch': 1922, 'bat': 365, 'explosion': 1606, 'fighting': 1702, 'surroundings': 4340, 'resident': 3696, 'washer': 4833, 'deck': 1104, 'chemical': 718, 'chlorine': 733, 'network': 2966, 'retailer': 3716, 'disposable': 1262, 'motor': 2893, 'absent': 5, 'updated': 4693, 'impact': 2238, 'fishing': 1731, 'buggy': 574, 'alley': 126, 'relevance': 3643, 'desperate': 1170, 'forum': 1800, 'foreign': 1785, 'watson': 4844, 'desperately': 1171, 'succeed': 4290, 'merely': 2802, 'polish': 3331, 'erotica': 1516, 'inaccurate': 2254, 'realise': 3568, 'lust': 2675, 'devote': 1188, 'fragile': 1808, 'staple': 4196, 'sarah': 3828, 'devoid': 1187, 'backdrop': 328, 'wierd': 4894, 'wedge': 4859, 'dawn': 1083, 'leaf': 2545, 'oversized': 3135, 'clamp': 770, 'round': 3781, 'april': 226, 'ace': 32, 'buddhism': 566, 'inevitably': 2282, 'entirety': 1500, 'gifted': 1909, 'notion': 3019, 'documentary': 1285, 'planning': 3298, 'vol': 4800, 'restore': 3712, 'shoulder': 3983, 'rope': 3776, 'escape': 1519, 'reverse': 3723, 'anchor': 167, 'logical': 2639, 'harder': 2046, 'code': 812, 'brutal': 561, 'mayhem': 2760, 'vein': 4742, 'interface': 2340, 'army': 237, 'arch': 228, 'strategy': 4250, 'demo': 1145, 'expansion': 1589, 'few': 1691, 'notch': 3013, 'tribe': 4584, 'intro': 2353, 'partial': 3183, 'deaf': 1089, 'reggae': 3625, 'alert': 119, 'cousin': 984, 'enjoyed': 1485, 'buddhist': 567, 'obnoxious': 3034, 'humorous': 2194, 'quirky': 3510, 'reread': 3691, 'tremendously': 4582, 'blessing': 460, 'gypsy': 2015, 'tick': 4489, 'leadership': 2544, 'lace': 2499, 'strand': 4245, 'related': 3636, 'cage': 605, 'martin': 2735, 'discovery': 1245, 'belva': 413, 'consume': 922, 'stable': 4184, 'immensely': 2236, 'gerald': 1900, 'breakdown': 528, 'strictly': 4256, 'decorative': 1107, 'toss': 4535, 'bin': 434, 'golf': 1938, 'filter': 1709, 'unlock': 4676, 'roller': 3766, 'coaster': 808, 'bruce': 557, 'martial': 2734, 'relation': 3637, 'discipline': 1239, 'grey': 1982, 'harlequin': 2050, 'melissa': 2786, 'undoubtedly': 4651, 'delete': 1133, 'blast': 455, 'virus': 4784, 'midi': 2818, 'countless': 975, 'component': 876, 'su': 4278, 'como': 852, 'examination': 1560, 'glue': 1929, 'accessory': 20, 'bow': 507, 'tad': 4369, 'indian': 2274, 'minus': 2839, 'intent': 2332, 'radiator': 3523, 'nickel': 2979, 'installation': 2314, 'comparison': 859, 'pan': 3163, 'lightness': 2592, 'nikon': 2987, 'usable': 4706, 'zoom': 4999, 'lens': 2569, 'disguise': 1251, 'hilditch': 2121, 'felicia': 1682, 'johnny': 2426, 'viewpoint': 4767, 'supplement': 4318, 'fi': 1692, 'faster': 1661, 'golden': 1937, 'coat': 809, 'pump': 3481, 'mug': 2909, 'liquid': 2613, 'thesis': 4459, 'monitor': 2867, 'viewsonic': 4768, 'adjustable': 65, 'crappy': 994, 'generic': 1891, 'refresh': 3618, 'marvel': 2736, 'ministry': 2836, 'newly': 2970, 'representation': 3684, 'violent': 4778, 'origin': 3099, 'picky': 3273, 'leather': 2553, 'alarm': 114, 'detector': 1180, 'vent': 4747, 'carpet': 643, 'ceiling': 670, 'pricey': 3409, 'approve': 225, 'curtain': 1046, 'emergency': 1450, 'dive': 1275, 'wisdom': 4915, 'brainless': 520, 'hum': 2189, 'neighbor': 2959, 'inspiring': 2311, 'journal': 2432, 'guidance': 2003, 'madonna': 2685, 'bored': 496, 'rose': 3778, 'dean': 1091, 'shout': 3984, 'whoever': 4884, 'watching': 4841, 'defect': 1114, 'valve': 4728, 'nipple': 2991, 'lane': 2511, 'launch': 2531, 'securely': 3896, 'subtitle': 4287, 'yoga': 4986, 'workbook': 4938, 'tribute': 4585, 'riff': 3744, 'ironic': 2373, 'expression': 1611, 'xanth': 4965, 'unreadable': 4680, 'zombie': 4998, 'dale': 1061, 'elevator': 1437, 'beatles': 384, 'asian': 259, 'pool': 3337, 'coleman': 816, 'ant': 191, 'soviet': 4136, 'frightening': 1834, 'tightly': 4495, 'region': 3627, 'makeup': 2701, 'lesbian': 2570, 'consistent': 915, 'elastic': 1425, 'dot': 1303, 'tile': 4496, 'warmth': 4824, 'national': 2939, 'riddle': 3740, 'korean': 2489, 'vegetarian': 4740, 'cookbook': 951, 'pa': 3143, 'establish': 1525, 'nyc': 3031, 'phenomenal': 3254, 'acknowledge': 35, 'diabetic': 1191, 'glucose': 1928, 'medication': 2777, 'diabetes': 1190, 'kudos': 2490, 'educate': 1408, 'peak': 3214, 'med': 2775, 'venus': 4749, 'identical': 2213, 'buff': 571, 'stalingrad': 4190, 'luftwaffe': 2672, 'argentine': 231, 'dancing': 1068, 'dancer': 1067, 'routine': 3784, 'ranger': 3540, 'february': 1673, 'schedule': 3854, 'edward': 1411, 'swap': 4348, 'excellant': 1565, 'dede': 1108, 'amuse': 161, 'described': 1161, 'bd': 376, 'boxset': 512, 'spiderman': 4162, 'extraordinary': 1619, 'samsung': 3819, 'xbox': 4966, 'russian': 3799, 'andrew': 170, 'bold': 480, 'grainy': 1960, 'diamond': 1197, 'acid': 34, 'sympathy': 4361, 'wicca': 4887, 'invent': 2359, 'goddess': 1935, 'hutton': 2204, 'obscure': 3035, 'conduct': 896, 'firewire': 1725, 'september': 3921, 'ad': 49, 'tony': 4527, 'alittle': 123, 'ending': 1469, 'lake': 2506, 'pitchshifter': 3289, 'industrial': 2279, 'manager': 2708, 'scotland': 3868, 'canada': 616, 'ra': 3515, 'awe': 318, 'egyptian': 1419, 'amateurish': 148, 'challenging': 689, 'rewrite': 3731, 'liberty': 2580, 'washing': 4834, 'monumental': 2875, 'kirk': 2474, 'cameron': 611, 'gillian': 1911, 'popularity': 3342, 'gary': 1878, 'creature': 1005, 'communist': 850, 'haiku': 2020, 'van': 4730, 'handbook': 2030, 'poet': 3323, 'kerouac': 2460, 'skeptical': 4036, 'mothman': 2889, 'prophecy': 3459, 'dubious': 1353, 'keel': 2455, 'ufo': 4625, 'phenomenon': 3255, 'disjoint': 1255, 'bogus': 479, 'sighting': 3994, 'albeit': 116, 'screenwriter': 3875, 'gordon': 1946, 'primarily': 3411, 'mighty': 2820, 'storytelling': 4242, 'letdown': 2574, 'controversial': 942, 'admittedly': 69, 'beast': 382, 'london': 2643, 'parallel': 3175, 'incoherent': 2261, 'happening': 2037, 'scenario': 3850, 'acquire': 38, 'goofy': 1944, 'stormy': 4238, 'monster': 2871, 'sincere': 4015, 'copyright': 957, 'outrage': 3121, 'dreck': 1331, 'innovative': 2300, 'racism': 3519, 'fighter': 1701, 'lene': 2565, 'analog': 164, 'replay': 3680, 'censorship': 676, 'anime': 179, 'kettle': 2461, 'suicide': 4306, 'maximum': 2757, 'math': 2751, 'newman': 2971, 'definitive': 1124, 'debate': 1094, 'nightwish': 2986, 'guardian': 2000, 'eva': 1534, 'bob': 477, 'thermometer': 4458, 'frequent': 1823, 'temp': 4411, 'hospital': 2171, 'tent': 4424, 'alice': 120, 'criticism': 1019, 'bdsm': 377, 'maria': 2722, 'inadequate': 2255, 'snmp': 4078, 'lately': 2524, 'tooth': 4529, 'randomly': 3538, 'frankenstein': 1815, 'koontz': 2488, 'repetition': 3676, 'ally': 129, 'madman': 2683, 'madness': 2684, 'canon': 621, 'panasonic': 3164, 'rewind': 3730, 'posting': 3360, 'sixty': 4031, 'differently': 1210, 'nirvana': 2992, 'cobain': 810, 'hardcore': 2044, 'bean': 380, 'estate': 1526, 'courtney': 983, 'catalogue': 659, 'boxed': 511, 'yea': 4974, 'recover': 3602, 'doug': 1306, 'vile': 4770, 'fitness': 1734, 'survival': 4341, 'hiking': 2119, 'drip': 1337, 'gritty': 1989, 'sci': 3860, 'lillian': 2602, 'dell': 1141, 'toxic': 4549, 'avenger': 309, 'troma': 4595, 'gratuitous': 1973, 'citizen': 764, 'poster': 3359, 'utter': 4720, 'router': 3783, 'discontinue': 1241, 'flush': 1764, 'carriage': 644, 'vitex': 4793, 'finance': 1713, 'eliminate': 1438, 'mild': 2822, 'acne': 36, 'darker': 1074, 'touching': 4541, 'camping': 615, 'admire': 67, 'exuviance': 1622, 'avail': 307, 'vibrator': 4759, 'heinlein': 2090, 'motivate': 2891, 'fare': 1654, 'depiction': 1153, 'realism': 3569, 'pursue': 3493, 'hardy': 2049, 'rape': 3544, 'alec': 118, 'valley': 4725, 'motherhood': 2888, 'telling': 4410, 'slavery': 4049, 'prediction': 3384, 'couldnt': 972, 'scare': 3844, 'heartbreaking': 2080, 'monotonous': 2870, 'confront': 902, 'bike': 431, 'snuggly': 4082, 'grandfather': 1966, 'viewing': 4766, 'bradley': 518, 'crawford': 996, 'outdoor': 3115, 'satire': 3829, 'juliet': 2442, 'criterion': 1016, 'sleeper': 4052, 'dismiss': 1259, 'cinematography': 759, 'kundera': 2491, 'regime': 3626, 'paranoid': 3177, 'sky': 4043, 'hendrix': 2099, 'odor': 3049, 'sf': 3944, 'voyage': 4805, 'heater': 2082, 'chaos': 694, 'hopeful': 2159, 'operating': 3079, 'slot': 4063, 'sur': 4326, 'greasy': 1975, 'postcard': 3358, 'mt': 2905, 'pilot': 3281, 'accident': 21, 'dumber': 1362, 'gossip': 1951, 'barn': 352, 'nobel': 2993, 'bay': 373, 'attend': 284, 'hike': 2118, 'maggie': 2687, 'dharma': 1189, 'bud': 565, 'fame': 1644, 'contemplate': 926, 'overrated': 3133, 'hp': 2183, 'theology': 4451, 'shia': 3965, 'megan': 2784, 'fox': 1806, 'actress': 46, 'he': 2067, 'labeouf': 2497, 'ben': 414, 'provider': 3469, 'ep': 1504, 'optimus': 3088, 'freak': 1818, 'bluray': 473, 'banal': 341, 'mentality': 2796, 'continuity': 932, 'nonexistent': 3003, 'browser': 556, 'cgi': 685, 'jar': 2399, 'remake': 3654, 'procedure': 3430, 'bullet': 581, 'alter': 139, 'slam': 4045, 'dts': 1348, 'stupidity': 4275, 'blockbuster': 463, 'branch': 521, 'resist': 3697, 'gb': 1882, 'jackson': 2391, 'syndrome': 4363, 'theatrical': 4449, 'alpha': 135, 'ticket': 4490, 'hockey': 2134, 'iphone': 2367, 'destruction': 1175, 'bruckheimer': 558, 'tactic': 4368, 'cowboy': 987, 'helicopter': 2091, 'violin': 4780, 'specie': 4150, 'decline': 1105, 'ie': 2217, 'epson': 1507, 'compatibility': 861, 'rambo': 3536, 'wwe': 4962, 'cena': 674, 'patrick': 3205, 'cringe': 1013, 'security': 3897, 'hogan': 2135, 'terminator': 4426, 'dramatically': 1322, 'hiss': 2126, 'emarker': 1447, 'playlist': 3309, 'emarks': 1448, 'execution': 1581, 'terrifying': 4431, 'censor': 675, 'gammell': 1870, 'ti': 4488, 'compromise': 883, 'gruesome': 1997, 'tame': 4377, 'horrify': 2167, 'helquist': 2096, 'scared': 3845, 'echo': 1397, 'sneak': 4077, 'aloud': 134, 'mythology': 2927, 'rice': 3735, 'bellydance': 409, 'atea': 277, 'privacy': 3423, 'brando': 523, 'altitude': 143, 'trail': 4558, 'rugged': 3790, 'warmer': 4823, 'padding': 3150, 'ralph': 3532, 'recognition': 3593, 'gabriel': 1861, 'cult': 1034, 'hound': 2176, 'ballet': 338, 'defense': 1117, 'predator': 3381, 'ryan': 3804, 'christopher': 749, 'officer': 3058, 'julie': 2441, 'silence': 4000, 'malfunction': 2704, 'douglas': 1307, 'genuine': 1898, 'brio': 545, 'sensor': 3914, 'automatic': 305, 'feeder': 1677, 'reset': 3695, 'manages': 2709, 'stewart': 4219, 'mellow': 2787, 'amnesia': 157, 'jude': 2437, 'tubthumping': 4605, 'lightning': 2593, 'gal': 1864, 'pitiful': 3290, 'elderly': 1426, 'arthritis': 245, 'earthquake': 1387, 'eject': 1423, 'laser': 2521, 'misplace': 2847, 'artificial': 249, 'reminiscent': 3661, 'mule': 2910, 'gibson': 1907, 'oppose': 3083, 'seldon': 3903, 'isaac': 2377, 'spoiler': 4171, 'futuristic': 1857, 'defend': 1116, 'inaccuracy': 2253, 'unexpected': 4653, 'genesis': 1893, 'liking': 2599, 'wwi': 4963, 'hardback': 2043, 'carrot': 645, 'vacuum': 4723, 'sincerely': 4016, 'viking': 4769, 'addiction': 58, 'nick': 2978, 'cf': 684, 'dentist': 1149, 'batman': 369, 'guinea': 2007, 'phase': 3252, 'mccartney': 2762, 'rem': 3651, 'removable': 3666, 'ritter': 3751, 'goodbye': 1941, 'joyce': 2436, 'janet': 2396, 'gay': 1881, 'external': 1616, 'microphone': 2815, 'charlotte': 704, 'britney': 547, 'spear': 4147, 'catholic': 664, 'philosophical': 3259, 'portrait': 3348, 'recovery': 3603, 'cancer': 618, 'sensation': 3911, 'turtle': 4611, 'dystopian': 1374, 'dubbed': 1351, 'aerial': 86, 'racist': 3520, 'pal': 3159, 'invisible': 2363, 'shakespeare': 3950, 'rainy': 3530, 'craze': 998, 'crawl': 997, 'dinosaur': 1220, 'harness': 2053, 'homosexual': 2149, 'rashel': 3549, 'dominate': 1296, 'curie': 1040, 'prize': 3425, 'simpletech': 4008, 'mb': 2761, 'massacre': 2741, 'patti': 3207, 'antonio': 198, 'stuck': 4266, 'evita': 1552, 'intex': 2349, 'inflate': 2285, 'airbed': 107, 'slept': 4054, 'deflate': 1126, 'comforter': 837, 'restock': 3711, 'xtra': 4969, 'flannel': 1739, 'fleetwood': 1748, 'rumour': 3793, 'mercedes': 2800, 'harmon': 2051, 'ford': 1784, 'passionate': 3194, 'cocktail': 811, 'jungle': 2447, 'oop': 3072, 'fonda': 1776, 'barbra': 348, 'rob': 3757, 'mattel': 2752, 'kinsella': 2473, 'sophie': 4118, 'wickham': 4889, 'eby': 1396, 'romeo': 3772, 'spread': 4177, 'nurse': 3029, 'garcia': 1875, 'incest': 2257, 'yello': 4978, 'shirley': 3972, 'homosexuality': 2150, 'manson': 2714, 'bugliosi': 575, 'helter': 2097, 'skelter': 4035, 'gnostic': 1931, 'tene': 4422, 'airplane': 109, 'dali': 1062, 'basement': 356, 'ninety': 2990, 'batcave': 366, 'pci': 3212, 'clavell': 780, 'noni': 3004, 'nomad': 2999, 'recharge': 3590, 'earphone': 1384, 'knit': 2481, 'voodoo': 4803, 'nba': 2946, 'ritual': 3752, 'toefl': 4518, 'shift': 3966, 'civil': 766, 'earpiece': 1385, 'vegan': 4739, 'elegant': 1433, 'tina': 4506, 'wilderness': 4898, 'sd': 3880, 'sandisk': 3822, 'sansa': 3826, 'carnegie': 642, 'snack': 4075, 'advocate': 85, 'vincent': 4774, 'prosecutor': 3462, 'slasher': 4047, 'monk': 2868, 'collar': 819, 'dracula': 1316, 'flint': 1754, 'wireless': 4914, 'jabra': 2388, 'eargels': 1380, 'earbuds': 1378, 'jawbone': 2403, 'eargel': 1379, 'chuck': 751, 'clan': 771, 'swedish': 4352, 'assante': 266, 'odyssey': 3051, 'ian': 2207, 'misfortune': 2844, 'philadelphia': 3257, 'programmer': 3443, 'winston': 4910, 'moby': 2857, 'peck': 3217, 'ahab': 101, 'directing': 1224, 'resemble': 3694, 'damme': 1064, 'flea': 1747, 'frank': 1813, 'lackey': 2501, 'venice': 4746, 'tuscan': 4612, 'tuscany': 4613, 'villa': 4771, 'communism': 849, 'rollerball': 3767, 'russell': 3798, 'pastor': 3197, 'megaman': 2783, 'chandler': 691, 'noir': 2996, 'scooter': 3865, 'pratchett': 3375, 'discworld': 1248, 'om': 3066, 'celiac': 671, 'gluten': 1930, 'amy': 163, 'usmle': 4715, 'freshman': 1826, 'dogg': 1290, 'gba': 1883, 'carter': 647, 'rebel': 3579, 'bowie': 508, 'holmes': 2143, 'confrontation': 903, 'sting': 4226, 'cummins': 1037, 'freud': 1827, 'organic': 3096, 'parable': 3172, 'vivitar': 4795, 'joan': 2421, 'palance': 3160, 'souljah': 4127, 'fw': 1859, 'childbirth': 726, 'birthing': 443, 'sheri': 3963, 'lamaze': 2507, 'bayles': 374, 'argento': 232, 'statue': 4205, 'usher': 4714, 'auel': 295, 'ayla': 324, 'prehistoric': 3388, 'neanderthal': 2947, 'lipstick': 2612, 'gamecube': 1867, 'gameboy': 1866, 'astrology': 275, 'antivirus': 197, 'femalien': 1688, 'unrated': 4679, 'flyboys': 1767, 'lafayette': 2505, 'escadrille': 1518, 'dogfight': 1289, 'judith': 2439, 'hostel': 2173, 'bleak': 456, 'paced': 3145, 'bebel': 388, 'everest': 1541, 'gammelgaard': 1869, 'elmo': 1441, 'firefighter': 1722, 'csi': 1032, 'taz': 4388, 'frm': 1835, 'garp': 1877, 'enrich': 1490, 'oceania': 3045, 'totalitarian': 4537, 'newspeak': 2974, 'totalitarianism': 4538, 'burgess': 586, 'fundamentalist': 1850, 'concealer': 886, 'huppert': 2200, 'perverse': 3249, 'zeta': 4996, 'guinness': 2008, 'rosalind': 3777, 'montag': 2872, 'fireman': 1723, 'farenheit': 1655, 'piper': 3286, 'fellowship': 1685, 'gimli': 1912, 'moria': 2882, 'rivendell': 3753, 'ati': 278, 'radeon': 3522, 'compactflash': 854, 'emily': 1451, 'pam': 3162, 'finnegans': 1720, 'lapinator': 2515, 'hatebreed': 2060, 'halti': 2027, 'continuum': 934, 'musiq': 2920, 'lola': 2642, 'franka': 1814, 'soccer': 4085, 'tism': 4511, 'ziggy': 4997, 'stardust': 4198, 'nickelodeon': 2980, 'knot': 2484, 'liam': 2579, 'owen': 3140, 'neeson': 2957, 'lili': 2601, 'eleanor': 1427, 'asvab': 276, 'goodman': 1942, 'cedar': 669, 'florette': 1759, 'manon': 2713, 'apache': 208, 'marquez': 2730, 'oprah': 3086, 'buendia': 570, 'macondo': 2681, 'papua': 3169, 'java': 2401, 'canterbury': 623, 'chaucer': 710, 'pellegrino': 3223, 'coyote': 988, 'perabo': 3231, 'redgrave': 3609, 'warnes': 4827, 'ronson': 3773, 'tomcat': 4523, 'fraser': 1817, 'mckellen': 2763, 'brendan': 536, 'buffalo': 572, 'mosby': 2885, 'stacie': 4185, 'orrico': 3104, 'christina': 746, 'ry': 3803, 'carlton': 641, 'hopkins': 2161, 'lovebird': 2663, 'linksys': 2609, 'basset': 364, 'baskerville': 361, 'doyle': 1313, 'sherlock': 3964, 'baskervilles': 362, 'marlon': 2729, 'donati': 1298, 'claustrophobic': 779, 'ventriloquist': 4748}\n"
          ],
          "name": "stdout"
        }
      ]
    },
    {
      "cell_type": "code",
      "metadata": {
        "id": "FUnZB5sLNmcP",
        "colab_type": "code",
        "colab": {
          "base_uri": "https://localhost:8080/",
          "height": 903
        },
        "outputId": "25b95fc1-cdea-497d-bcfc-aeca4aa89239"
      },
      "source": [
        "print(X_train_tfidf)"
      ],
      "execution_count": null,
      "outputs": [
        {
          "output_type": "stream",
          "text": [
            "  (0, 4502)\t0.3763188267807246\n",
            "  (0, 4501)\t0.15031494427382475\n",
            "  (0, 3974)\t0.35868777245753825\n",
            "  (0, 3890)\t0.2515140235472667\n",
            "  (0, 3858)\t0.2690675584422277\n",
            "  (0, 3748)\t0.34695623926050195\n",
            "  (0, 3658)\t0.2896999547088821\n",
            "  (0, 3561)\t0.29449641491430995\n",
            "  (0, 2922)\t0.229683025366997\n",
            "  (0, 1940)\t0.13406125327954532\n",
            "  (0, 1536)\t0.17761496997588844\n",
            "  (0, 517)\t0.321056290554803\n",
            "  (0, 488)\t0.12303572865008613\n",
            "  (0, 238)\t0.2448559358109696\n",
            "  (1, 4687)\t0.21384275526442909\n",
            "  (1, 4069)\t0.3566872275481094\n",
            "  (1, 3434)\t0.21279175847748263\n",
            "  (1, 3319)\t0.8157357261127677\n",
            "  (1, 2595)\t0.2173336717856602\n",
            "  (1, 1252)\t0.2074693534878867\n",
            "  (1, 598)\t0.1614401835472762\n",
            "  (2, 4734)\t0.21251405574612364\n",
            "  (2, 4621)\t0.17383471522304228\n",
            "  (2, 4464)\t0.11898591577849023\n",
            "  (2, 4197)\t0.13515537469996092\n",
            "  :\t:\n",
            "  (6998, 2522)\t0.11512409752599596\n",
            "  (6998, 2130)\t0.13650214385741868\n",
            "  (6998, 1976)\t0.07126908030410523\n",
            "  (6998, 1788)\t0.22013355385880556\n",
            "  (6998, 1755)\t0.19935027840675415\n",
            "  (6998, 1719)\t0.13508979239544552\n",
            "  (6998, 1595)\t0.13521530232348064\n",
            "  (6998, 1579)\t0.1852028677205329\n",
            "  (6998, 1545)\t0.13386451534221278\n",
            "  (6998, 1540)\t0.09899700620855782\n",
            "  (6998, 1299)\t0.2957222991515454\n",
            "  (6998, 1186)\t0.2328691080708402\n",
            "  (6998, 488)\t0.36187164406935557\n",
            "  (6999, 4866)\t0.16162053232828144\n",
            "  (6999, 4149)\t0.5217385422290042\n",
            "  (6999, 3823)\t0.3649735868975402\n",
            "  (6999, 2902)\t0.16568268411504228\n",
            "  (6999, 2699)\t0.14615260074275177\n",
            "  (6999, 1976)\t0.14155242939037596\n",
            "  (6999, 1672)\t0.28173977593289695\n",
            "  (6999, 1536)\t0.17292898689607455\n",
            "  (6999, 1406)\t0.2877416804485293\n",
            "  (6999, 1238)\t0.314256617088249\n",
            "  (6999, 319)\t0.28499442233774624\n",
            "  (6999, 50)\t0.3571519291530235\n"
          ],
          "name": "stdout"
        }
      ]
    },
    {
      "cell_type": "code",
      "metadata": {
        "id": "jfuN8Cs_PCur",
        "colab_type": "code",
        "colab": {
          "base_uri": "https://localhost:8080/",
          "height": 363
        },
        "outputId": "097dea21-29a4-4c70-a47c-d2788a1ecb06"
      },
      "source": [
        "dataset.head(10)"
      ],
      "execution_count": null,
      "outputs": [
        {
          "output_type": "execute_result",
          "data": {
            "text/html": [
              "<div>\n",
              "<style scoped>\n",
              "    .dataframe tbody tr th:only-of-type {\n",
              "        vertical-align: middle;\n",
              "    }\n",
              "\n",
              "    .dataframe tbody tr th {\n",
              "        vertical-align: top;\n",
              "    }\n",
              "\n",
              "    .dataframe thead th {\n",
              "        text-align: right;\n",
              "    }\n",
              "</style>\n",
              "<table border=\"1\" class=\"dataframe\">\n",
              "  <thead>\n",
              "    <tr style=\"text-align: right;\">\n",
              "      <th></th>\n",
              "      <th>text</th>\n",
              "      <th>label</th>\n",
              "      <th>text_final</th>\n",
              "    </tr>\n",
              "  </thead>\n",
              "  <tbody>\n",
              "    <tr>\n",
              "      <th>0</th>\n",
              "      <td>[stuning, even, for, the, non-gamer, :, this, ...</td>\n",
              "      <td>__label__2</td>\n",
              "      <td>['stun', 'even', 'sound', 'track', 'beautiful'...</td>\n",
              "    </tr>\n",
              "    <tr>\n",
              "      <th>1</th>\n",
              "      <td>[the, best, soundtrack, ever, to, anything, .,...</td>\n",
              "      <td>__label__2</td>\n",
              "      <td>['best', 'soundtrack', 'ever', 'anything', 're...</td>\n",
              "    </tr>\n",
              "    <tr>\n",
              "      <th>2</th>\n",
              "      <td>[amazing, !, :, this, soundtrack, is, my, favo...</td>\n",
              "      <td>__label__2</td>\n",
              "      <td>['amaze', 'soundtrack', 'favorite', 'music', '...</td>\n",
              "    </tr>\n",
              "    <tr>\n",
              "      <th>3</th>\n",
              "      <td>[excellent, soundtrack, :, i, truly, like, thi...</td>\n",
              "      <td>__label__2</td>\n",
              "      <td>['excellent', 'soundtrack', 'truly', 'like', '...</td>\n",
              "    </tr>\n",
              "    <tr>\n",
              "      <th>4</th>\n",
              "      <td>[remember, ,, pull, your, jaw, off, the, floor...</td>\n",
              "      <td>__label__2</td>\n",
              "      <td>['remember', 'pull', 'jaw', 'floor', 'hear', '...</td>\n",
              "    </tr>\n",
              "    <tr>\n",
              "      <th>5</th>\n",
              "      <td>[an, absolute, masterpiece, :, i, am, quite, s...</td>\n",
              "      <td>__label__2</td>\n",
              "      <td>['absolute', 'masterpiece', 'quite', 'sure', '...</td>\n",
              "    </tr>\n",
              "    <tr>\n",
              "      <th>6</th>\n",
              "      <td>[buyer, beware, :, this, is, a, self-published...</td>\n",
              "      <td>__label__1</td>\n",
              "      <td>['buyer', 'beware', 'book', 'want', 'know', 'r...</td>\n",
              "    </tr>\n",
              "    <tr>\n",
              "      <th>7</th>\n",
              "      <td>[glorious, story, :, i, loved, whisper, of, th...</td>\n",
              "      <td>__label__2</td>\n",
              "      <td>['glorious', 'story', 'love', 'whisper', 'wick...</td>\n",
              "    </tr>\n",
              "    <tr>\n",
              "      <th>8</th>\n",
              "      <td>[a, five, star, book, :, i, just, finished, re...</td>\n",
              "      <td>__label__2</td>\n",
              "      <td>['five', 'star', 'book', 'finish', 'read', 'wh...</td>\n",
              "    </tr>\n",
              "    <tr>\n",
              "      <th>9</th>\n",
              "      <td>[whispers, of, the, wicked, saints, :, this, w...</td>\n",
              "      <td>__label__2</td>\n",
              "      <td>['whisper', 'wicked', 'saint', 'easy', 'read',...</td>\n",
              "    </tr>\n",
              "  </tbody>\n",
              "</table>\n",
              "</div>"
            ],
            "text/plain": [
              "                                                text  ...                                         text_final\n",
              "0  [stuning, even, for, the, non-gamer, :, this, ...  ...  ['stun', 'even', 'sound', 'track', 'beautiful'...\n",
              "1  [the, best, soundtrack, ever, to, anything, .,...  ...  ['best', 'soundtrack', 'ever', 'anything', 're...\n",
              "2  [amazing, !, :, this, soundtrack, is, my, favo...  ...  ['amaze', 'soundtrack', 'favorite', 'music', '...\n",
              "3  [excellent, soundtrack, :, i, truly, like, thi...  ...  ['excellent', 'soundtrack', 'truly', 'like', '...\n",
              "4  [remember, ,, pull, your, jaw, off, the, floor...  ...  ['remember', 'pull', 'jaw', 'floor', 'hear', '...\n",
              "5  [an, absolute, masterpiece, :, i, am, quite, s...  ...  ['absolute', 'masterpiece', 'quite', 'sure', '...\n",
              "6  [buyer, beware, :, this, is, a, self-published...  ...  ['buyer', 'beware', 'book', 'want', 'know', 'r...\n",
              "7  [glorious, story, :, i, loved, whisper, of, th...  ...  ['glorious', 'story', 'love', 'whisper', 'wick...\n",
              "8  [a, five, star, book, :, i, just, finished, re...  ...  ['five', 'star', 'book', 'finish', 'read', 'wh...\n",
              "9  [whispers, of, the, wicked, saints, :, this, w...  ...  ['whisper', 'wicked', 'saint', 'easy', 'read',...\n",
              "\n",
              "[10 rows x 3 columns]"
            ]
          },
          "metadata": {
            "tags": []
          },
          "execution_count": 9
        }
      ]
    },
    {
      "cell_type": "code",
      "metadata": {
        "id": "735s96tlPtvJ",
        "colab_type": "code",
        "colab": {
          "base_uri": "https://localhost:8080/",
          "height": 225
        },
        "outputId": "05fe34cb-8c6e-4071-e8e1-b7f0c15cf9ef"
      },
      "source": [
        "print(dataset['text_final'])"
      ],
      "execution_count": null,
      "outputs": [
        {
          "output_type": "stream",
          "text": [
            "0       ['stun', 'even', 'sound', 'track', 'beautiful'...\n",
            "1       ['best', 'soundtrack', 'ever', 'anything', 're...\n",
            "2       ['amaze', 'soundtrack', 'favorite', 'music', '...\n",
            "3       ['excellent', 'soundtrack', 'truly', 'like', '...\n",
            "4       ['remember', 'pull', 'jaw', 'floor', 'hear', '...\n",
            "                              ...                        \n",
            "9995    ['revelation', 'life', 'small', 'town', 'ameri...\n",
            "9996    ['great', 'biography', 'interesting', 'journal...\n",
            "9997    ['interest', 'subject', 'poor', 'presentation'...\n",
            "9998    ['buy', 'box', 'look', 'use', 'obviously', 'ne...\n",
            "9999    ['beautiful', 'pen', 'fast', 'delivery', 'pen'...\n",
            "Name: text_final, Length: 10000, dtype: object\n"
          ],
          "name": "stdout"
        }
      ]
    },
    {
      "cell_type": "code",
      "metadata": {
        "id": "i8u3PjT4P03j",
        "colab_type": "code",
        "colab": {
          "base_uri": "https://localhost:8080/",
          "height": 34
        },
        "outputId": "34d8db39-3c5e-4d74-8967-7805d52a4005"
      },
      "source": [
        "#classification using Naive_Bayes algorithm\n",
        "nb_classifier = naive_bayes.MultinomialNB()\n",
        "nb_classifier.fit(X_train_tfidf, Y_train)\n",
        "\n",
        "#predicting the labels on the validation set\n",
        "nb_predictions = nb_classifier.predict(X_test_tfidf)\n",
        "\n",
        "#displaying the accuracy score\n",
        "print(\"Naive_Bayes Accuracy Score: {}\".format(accuracy_score(nb_predictions, Y_test)*100))"
      ],
      "execution_count": null,
      "outputs": [
        {
          "output_type": "stream",
          "text": [
            "Naive_Bayes Accuracy Score: 83.1\n"
          ],
          "name": "stdout"
        }
      ]
    },
    {
      "cell_type": "code",
      "metadata": {
        "id": "Z_Zkf50namrb",
        "colab_type": "code",
        "colab": {
          "base_uri": "https://localhost:8080/",
          "height": 34
        },
        "outputId": "0a758607-aa37-473a-ff9a-2d88cbce6321"
      },
      "source": [
        "#classification using SVM algorithm\n",
        "svm_classifier = svm.SVC(C=1.0, kernel='linear', degree=3, gamma='auto')\n",
        "svm_classifier.fit(X_train_tfidf, Y_train)\n",
        "\n",
        "#predicting the labels on the validation set\n",
        "svm_predictions = svm_classifier.predict(X_test_tfidf)\n",
        "\n",
        "#displaying the accuracy score\n",
        "print(\"SVM Accuracy Score: {}\".format(accuracy_score(svm_predictions, Y_test)*100))"
      ],
      "execution_count": null,
      "outputs": [
        {
          "output_type": "stream",
          "text": [
            "SVM Accuracy Score: 84.7\n"
          ],
          "name": "stdout"
        }
      ]
    },
    {
      "cell_type": "code",
      "metadata": {
        "id": "tKDQvQdpbclm",
        "colab_type": "code",
        "colab": {
          "base_uri": "https://localhost:8080/",
          "height": 254
        },
        "outputId": "6ce9cde2-a3a5-46a8-b08e-426e20f99ee9"
      },
      "source": [
        "#plotting the histogram\n",
        "import pandas as pd\n",
        "import seaborn as sb\n",
        "from matplotlib import pyplot as plt\n",
        "\n",
        "sb.distplot(accuracy_score((nb_predictions, Y_test)*100), accuracy_score((svm_predictions, Y_test)*100))\n",
        "plt.show()"
      ],
      "execution_count": null,
      "outputs": [
        {
          "output_type": "stream",
          "text": [
            "/usr/local/lib/python3.6/dist-packages/statsmodels/tools/_testing.py:19: FutureWarning: pandas.util.testing is deprecated. Use the functions in the public API at pandas.testing instead.\n",
            "  import pandas.util.testing as tm\n"
          ],
          "name": "stderr"
        },
        {
          "output_type": "error",
          "ename": "TypeError",
          "evalue": "ignored",
          "traceback": [
            "\u001b[0;31m---------------------------------------------------------------------------\u001b[0m",
            "\u001b[0;31mTypeError\u001b[0m                                 Traceback (most recent call last)",
            "\u001b[0;32m<ipython-input-14-8e9a18e6934f>\u001b[0m in \u001b[0;36m<module>\u001b[0;34m()\u001b[0m\n\u001b[1;32m      4\u001b[0m \u001b[0;32mfrom\u001b[0m \u001b[0mmatplotlib\u001b[0m \u001b[0;32mimport\u001b[0m \u001b[0mpyplot\u001b[0m \u001b[0;32mas\u001b[0m \u001b[0mplt\u001b[0m\u001b[0;34m\u001b[0m\u001b[0;34m\u001b[0m\u001b[0m\n\u001b[1;32m      5\u001b[0m \u001b[0;34m\u001b[0m\u001b[0m\n\u001b[0;32m----> 6\u001b[0;31m \u001b[0msb\u001b[0m\u001b[0;34m.\u001b[0m\u001b[0mdistplot\u001b[0m\u001b[0;34m(\u001b[0m\u001b[0maccuracy_score\u001b[0m\u001b[0;34m(\u001b[0m\u001b[0;34m(\u001b[0m\u001b[0mnb_predictions\u001b[0m\u001b[0;34m,\u001b[0m \u001b[0mY_test\u001b[0m\u001b[0;34m)\u001b[0m\u001b[0;34m*\u001b[0m\u001b[0;36m100\u001b[0m\u001b[0;34m)\u001b[0m\u001b[0;34m,\u001b[0m \u001b[0maccuracy_score\u001b[0m\u001b[0;34m(\u001b[0m\u001b[0;34m(\u001b[0m\u001b[0msvm_predictions\u001b[0m\u001b[0;34m,\u001b[0m \u001b[0mY_test\u001b[0m\u001b[0;34m)\u001b[0m\u001b[0;34m*\u001b[0m\u001b[0;36m100\u001b[0m\u001b[0;34m)\u001b[0m\u001b[0;34m)\u001b[0m\u001b[0;34m\u001b[0m\u001b[0;34m\u001b[0m\u001b[0m\n\u001b[0m\u001b[1;32m      7\u001b[0m \u001b[0mplt\u001b[0m\u001b[0;34m.\u001b[0m\u001b[0mshow\u001b[0m\u001b[0;34m(\u001b[0m\u001b[0;34m)\u001b[0m\u001b[0;34m\u001b[0m\u001b[0;34m\u001b[0m\u001b[0m\n",
            "\u001b[0;31mTypeError\u001b[0m: accuracy_score() missing 1 required positional argument: 'y_pred'"
          ]
        }
      ]
    },
    {
      "cell_type": "code",
      "metadata": {
        "id": "MJX3ZwvqvvG0",
        "colab_type": "code",
        "colab": {}
      },
      "source": [
        ""
      ],
      "execution_count": null,
      "outputs": []
    }
  ]
}